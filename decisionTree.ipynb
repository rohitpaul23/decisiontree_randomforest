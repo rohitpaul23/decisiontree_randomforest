{
  "cells": [
    {
      "cell_type": "markdown",
      "metadata": {
        "id": "view-in-github",
        "colab_type": "text"
      },
      "source": [
        "<a href=\"https://colab.research.google.com/github/rohitpaul23/decisiontree_randomforest/blob/main/decisionTree.ipynb\" target=\"_parent\"><img src=\"https://colab.research.google.com/assets/colab-badge.svg\" alt=\"Open In Colab\"/></a>"
      ]
    },
    {
      "cell_type": "markdown",
      "metadata": {
        "id": "5xacA2ojJyC7"
      },
      "source": [
        "# DECISION TREE\n",
        "\n",
        "\n",
        "Problem:\n",
        "\n",
        "For this part of the assignment we will work on Bank Marketing dataset. We have been provided with a pre-defined set of test, train and validation of dataset to work with. In this dataset, the first row represents the labels of each column such that the last column represents whether the client subscribed (y/n) and following that, each row represents an example. \n",
        "We have to implement the decision tree algorithm for predicting whether client subscribed a term deposit"
      ]
    },
    {
      "cell_type": "markdown",
      "metadata": {
        "id": "mq3vTJEmJyDB"
      },
      "source": [
        "https://archive.ics.uci.edu/ml/datasets/Bank+Marketing"
      ]
    },
    {
      "cell_type": "code",
      "execution_count": 1,
      "metadata": {
        "id": "cma314U7JyDC"
      },
      "outputs": [],
      "source": [
        "import numpy as np\n",
        "import pandas as pd"
      ]
    },
    {
      "cell_type": "code",
      "source": [
        "from google.colab import drive\n",
        "drive.mount(\"/content/gdrive\")"
      ],
      "metadata": {
        "colab": {
          "base_uri": "https://localhost:8080/"
        },
        "id": "Jid2F79IJ4p6",
        "outputId": "428a545b-9044-4946-dc3b-6f58221ed79c"
      },
      "execution_count": 2,
      "outputs": [
        {
          "output_type": "stream",
          "name": "stdout",
          "text": [
            "Mounted at /content/gdrive\n"
          ]
        }
      ]
    },
    {
      "cell_type": "code",
      "execution_count": 4,
      "metadata": {
        "colab": {
          "base_uri": "https://localhost:8080/",
          "height": 488
        },
        "id": "-V6zDLyBJyDE",
        "outputId": "a0eeb151-73fa-47cc-b55b-b47013037990"
      },
      "outputs": [
        {
          "output_type": "execute_result",
          "data": {
            "text/plain": [
              "       age          job  marital  education default  balance housing loan  \\\n",
              "0       57   unemployed  married  secondary      no      890      no   no   \n",
              "1       56   technician  married  secondary      no     2558      no   no   \n",
              "2       50   technician  married   tertiary      no      267     yes   no   \n",
              "3       47   management  married    unknown      no     4567      no   no   \n",
              "4       49   management  married   tertiary      no     5887      no   no   \n",
              "...    ...          ...      ...        ...     ...      ...     ...  ...   \n",
              "36163   37  blue-collar  married  secondary      no      128     yes   no   \n",
              "36164   43   technician   single  secondary      no      593     yes   no   \n",
              "36165   32   technician   single  secondary      no      145      no   no   \n",
              "36166   35   technician  married  secondary      no     -215      no  yes   \n",
              "36167   69     services  married    unknown      no    23592      no   no   \n",
              "\n",
              "         contact  day month  duration  campaign  pdays  previous poutcome    y  \n",
              "0       cellular    5   feb       343         4     -1         0  unknown   no  \n",
              "1        unknown   19   jun       288         1     -1         0  unknown   no  \n",
              "2       cellular   21   nov        30         1     -1         0  unknown   no  \n",
              "3      telephone   31   jul       921         4     -1         0  unknown   no  \n",
              "4       cellular    2   jun       181         3    293         2  failure  yes  \n",
              "...          ...  ...   ...       ...       ...    ...       ...      ...  ...  \n",
              "36163  telephone    8   jul       379         3     -1         0  unknown   no  \n",
              "36164    unknown    5   may        55         1     -1         0  unknown   no  \n",
              "36165   cellular    6   aug       135         2     -1         0  unknown   no  \n",
              "36166   cellular   31   jul        57        34     -1         0  unknown   no  \n",
              "36167   cellular    3   jul       837         3     -1         0  unknown   no  \n",
              "\n",
              "[36168 rows x 17 columns]"
            ],
            "text/html": [
              "\n",
              "  <div id=\"df-99e0e197-6f1a-491e-aae6-db171ccac9b0\">\n",
              "    <div class=\"colab-df-container\">\n",
              "      <div>\n",
              "<style scoped>\n",
              "    .dataframe tbody tr th:only-of-type {\n",
              "        vertical-align: middle;\n",
              "    }\n",
              "\n",
              "    .dataframe tbody tr th {\n",
              "        vertical-align: top;\n",
              "    }\n",
              "\n",
              "    .dataframe thead th {\n",
              "        text-align: right;\n",
              "    }\n",
              "</style>\n",
              "<table border=\"1\" class=\"dataframe\">\n",
              "  <thead>\n",
              "    <tr style=\"text-align: right;\">\n",
              "      <th></th>\n",
              "      <th>age</th>\n",
              "      <th>job</th>\n",
              "      <th>marital</th>\n",
              "      <th>education</th>\n",
              "      <th>default</th>\n",
              "      <th>balance</th>\n",
              "      <th>housing</th>\n",
              "      <th>loan</th>\n",
              "      <th>contact</th>\n",
              "      <th>day</th>\n",
              "      <th>month</th>\n",
              "      <th>duration</th>\n",
              "      <th>campaign</th>\n",
              "      <th>pdays</th>\n",
              "      <th>previous</th>\n",
              "      <th>poutcome</th>\n",
              "      <th>y</th>\n",
              "    </tr>\n",
              "  </thead>\n",
              "  <tbody>\n",
              "    <tr>\n",
              "      <th>0</th>\n",
              "      <td>57</td>\n",
              "      <td>unemployed</td>\n",
              "      <td>married</td>\n",
              "      <td>secondary</td>\n",
              "      <td>no</td>\n",
              "      <td>890</td>\n",
              "      <td>no</td>\n",
              "      <td>no</td>\n",
              "      <td>cellular</td>\n",
              "      <td>5</td>\n",
              "      <td>feb</td>\n",
              "      <td>343</td>\n",
              "      <td>4</td>\n",
              "      <td>-1</td>\n",
              "      <td>0</td>\n",
              "      <td>unknown</td>\n",
              "      <td>no</td>\n",
              "    </tr>\n",
              "    <tr>\n",
              "      <th>1</th>\n",
              "      <td>56</td>\n",
              "      <td>technician</td>\n",
              "      <td>married</td>\n",
              "      <td>secondary</td>\n",
              "      <td>no</td>\n",
              "      <td>2558</td>\n",
              "      <td>no</td>\n",
              "      <td>no</td>\n",
              "      <td>unknown</td>\n",
              "      <td>19</td>\n",
              "      <td>jun</td>\n",
              "      <td>288</td>\n",
              "      <td>1</td>\n",
              "      <td>-1</td>\n",
              "      <td>0</td>\n",
              "      <td>unknown</td>\n",
              "      <td>no</td>\n",
              "    </tr>\n",
              "    <tr>\n",
              "      <th>2</th>\n",
              "      <td>50</td>\n",
              "      <td>technician</td>\n",
              "      <td>married</td>\n",
              "      <td>tertiary</td>\n",
              "      <td>no</td>\n",
              "      <td>267</td>\n",
              "      <td>yes</td>\n",
              "      <td>no</td>\n",
              "      <td>cellular</td>\n",
              "      <td>21</td>\n",
              "      <td>nov</td>\n",
              "      <td>30</td>\n",
              "      <td>1</td>\n",
              "      <td>-1</td>\n",
              "      <td>0</td>\n",
              "      <td>unknown</td>\n",
              "      <td>no</td>\n",
              "    </tr>\n",
              "    <tr>\n",
              "      <th>3</th>\n",
              "      <td>47</td>\n",
              "      <td>management</td>\n",
              "      <td>married</td>\n",
              "      <td>unknown</td>\n",
              "      <td>no</td>\n",
              "      <td>4567</td>\n",
              "      <td>no</td>\n",
              "      <td>no</td>\n",
              "      <td>telephone</td>\n",
              "      <td>31</td>\n",
              "      <td>jul</td>\n",
              "      <td>921</td>\n",
              "      <td>4</td>\n",
              "      <td>-1</td>\n",
              "      <td>0</td>\n",
              "      <td>unknown</td>\n",
              "      <td>no</td>\n",
              "    </tr>\n",
              "    <tr>\n",
              "      <th>4</th>\n",
              "      <td>49</td>\n",
              "      <td>management</td>\n",
              "      <td>married</td>\n",
              "      <td>tertiary</td>\n",
              "      <td>no</td>\n",
              "      <td>5887</td>\n",
              "      <td>no</td>\n",
              "      <td>no</td>\n",
              "      <td>cellular</td>\n",
              "      <td>2</td>\n",
              "      <td>jun</td>\n",
              "      <td>181</td>\n",
              "      <td>3</td>\n",
              "      <td>293</td>\n",
              "      <td>2</td>\n",
              "      <td>failure</td>\n",
              "      <td>yes</td>\n",
              "    </tr>\n",
              "    <tr>\n",
              "      <th>...</th>\n",
              "      <td>...</td>\n",
              "      <td>...</td>\n",
              "      <td>...</td>\n",
              "      <td>...</td>\n",
              "      <td>...</td>\n",
              "      <td>...</td>\n",
              "      <td>...</td>\n",
              "      <td>...</td>\n",
              "      <td>...</td>\n",
              "      <td>...</td>\n",
              "      <td>...</td>\n",
              "      <td>...</td>\n",
              "      <td>...</td>\n",
              "      <td>...</td>\n",
              "      <td>...</td>\n",
              "      <td>...</td>\n",
              "      <td>...</td>\n",
              "    </tr>\n",
              "    <tr>\n",
              "      <th>36163</th>\n",
              "      <td>37</td>\n",
              "      <td>blue-collar</td>\n",
              "      <td>married</td>\n",
              "      <td>secondary</td>\n",
              "      <td>no</td>\n",
              "      <td>128</td>\n",
              "      <td>yes</td>\n",
              "      <td>no</td>\n",
              "      <td>telephone</td>\n",
              "      <td>8</td>\n",
              "      <td>jul</td>\n",
              "      <td>379</td>\n",
              "      <td>3</td>\n",
              "      <td>-1</td>\n",
              "      <td>0</td>\n",
              "      <td>unknown</td>\n",
              "      <td>no</td>\n",
              "    </tr>\n",
              "    <tr>\n",
              "      <th>36164</th>\n",
              "      <td>43</td>\n",
              "      <td>technician</td>\n",
              "      <td>single</td>\n",
              "      <td>secondary</td>\n",
              "      <td>no</td>\n",
              "      <td>593</td>\n",
              "      <td>yes</td>\n",
              "      <td>no</td>\n",
              "      <td>unknown</td>\n",
              "      <td>5</td>\n",
              "      <td>may</td>\n",
              "      <td>55</td>\n",
              "      <td>1</td>\n",
              "      <td>-1</td>\n",
              "      <td>0</td>\n",
              "      <td>unknown</td>\n",
              "      <td>no</td>\n",
              "    </tr>\n",
              "    <tr>\n",
              "      <th>36165</th>\n",
              "      <td>32</td>\n",
              "      <td>technician</td>\n",
              "      <td>single</td>\n",
              "      <td>secondary</td>\n",
              "      <td>no</td>\n",
              "      <td>145</td>\n",
              "      <td>no</td>\n",
              "      <td>no</td>\n",
              "      <td>cellular</td>\n",
              "      <td>6</td>\n",
              "      <td>aug</td>\n",
              "      <td>135</td>\n",
              "      <td>2</td>\n",
              "      <td>-1</td>\n",
              "      <td>0</td>\n",
              "      <td>unknown</td>\n",
              "      <td>no</td>\n",
              "    </tr>\n",
              "    <tr>\n",
              "      <th>36166</th>\n",
              "      <td>35</td>\n",
              "      <td>technician</td>\n",
              "      <td>married</td>\n",
              "      <td>secondary</td>\n",
              "      <td>no</td>\n",
              "      <td>-215</td>\n",
              "      <td>no</td>\n",
              "      <td>yes</td>\n",
              "      <td>cellular</td>\n",
              "      <td>31</td>\n",
              "      <td>jul</td>\n",
              "      <td>57</td>\n",
              "      <td>34</td>\n",
              "      <td>-1</td>\n",
              "      <td>0</td>\n",
              "      <td>unknown</td>\n",
              "      <td>no</td>\n",
              "    </tr>\n",
              "    <tr>\n",
              "      <th>36167</th>\n",
              "      <td>69</td>\n",
              "      <td>services</td>\n",
              "      <td>married</td>\n",
              "      <td>unknown</td>\n",
              "      <td>no</td>\n",
              "      <td>23592</td>\n",
              "      <td>no</td>\n",
              "      <td>no</td>\n",
              "      <td>cellular</td>\n",
              "      <td>3</td>\n",
              "      <td>jul</td>\n",
              "      <td>837</td>\n",
              "      <td>3</td>\n",
              "      <td>-1</td>\n",
              "      <td>0</td>\n",
              "      <td>unknown</td>\n",
              "      <td>no</td>\n",
              "    </tr>\n",
              "  </tbody>\n",
              "</table>\n",
              "<p>36168 rows × 17 columns</p>\n",
              "</div>\n",
              "      <button class=\"colab-df-convert\" onclick=\"convertToInteractive('df-99e0e197-6f1a-491e-aae6-db171ccac9b0')\"\n",
              "              title=\"Convert this dataframe to an interactive table.\"\n",
              "              style=\"display:none;\">\n",
              "        \n",
              "  <svg xmlns=\"http://www.w3.org/2000/svg\" height=\"24px\"viewBox=\"0 0 24 24\"\n",
              "       width=\"24px\">\n",
              "    <path d=\"M0 0h24v24H0V0z\" fill=\"none\"/>\n",
              "    <path d=\"M18.56 5.44l.94 2.06.94-2.06 2.06-.94-2.06-.94-.94-2.06-.94 2.06-2.06.94zm-11 1L8.5 8.5l.94-2.06 2.06-.94-2.06-.94L8.5 2.5l-.94 2.06-2.06.94zm10 10l.94 2.06.94-2.06 2.06-.94-2.06-.94-.94-2.06-.94 2.06-2.06.94z\"/><path d=\"M17.41 7.96l-1.37-1.37c-.4-.4-.92-.59-1.43-.59-.52 0-1.04.2-1.43.59L10.3 9.45l-7.72 7.72c-.78.78-.78 2.05 0 2.83L4 21.41c.39.39.9.59 1.41.59.51 0 1.02-.2 1.41-.59l7.78-7.78 2.81-2.81c.8-.78.8-2.07 0-2.86zM5.41 20L4 18.59l7.72-7.72 1.47 1.35L5.41 20z\"/>\n",
              "  </svg>\n",
              "      </button>\n",
              "      \n",
              "  <style>\n",
              "    .colab-df-container {\n",
              "      display:flex;\n",
              "      flex-wrap:wrap;\n",
              "      gap: 12px;\n",
              "    }\n",
              "\n",
              "    .colab-df-convert {\n",
              "      background-color: #E8F0FE;\n",
              "      border: none;\n",
              "      border-radius: 50%;\n",
              "      cursor: pointer;\n",
              "      display: none;\n",
              "      fill: #1967D2;\n",
              "      height: 32px;\n",
              "      padding: 0 0 0 0;\n",
              "      width: 32px;\n",
              "    }\n",
              "\n",
              "    .colab-df-convert:hover {\n",
              "      background-color: #E2EBFA;\n",
              "      box-shadow: 0px 1px 2px rgba(60, 64, 67, 0.3), 0px 1px 3px 1px rgba(60, 64, 67, 0.15);\n",
              "      fill: #174EA6;\n",
              "    }\n",
              "\n",
              "    [theme=dark] .colab-df-convert {\n",
              "      background-color: #3B4455;\n",
              "      fill: #D2E3FC;\n",
              "    }\n",
              "\n",
              "    [theme=dark] .colab-df-convert:hover {\n",
              "      background-color: #434B5C;\n",
              "      box-shadow: 0px 1px 3px 1px rgba(0, 0, 0, 0.15);\n",
              "      filter: drop-shadow(0px 1px 2px rgba(0, 0, 0, 0.3));\n",
              "      fill: #FFFFFF;\n",
              "    }\n",
              "  </style>\n",
              "\n",
              "      <script>\n",
              "        const buttonEl =\n",
              "          document.querySelector('#df-99e0e197-6f1a-491e-aae6-db171ccac9b0 button.colab-df-convert');\n",
              "        buttonEl.style.display =\n",
              "          google.colab.kernel.accessAllowed ? 'block' : 'none';\n",
              "\n",
              "        async function convertToInteractive(key) {\n",
              "          const element = document.querySelector('#df-99e0e197-6f1a-491e-aae6-db171ccac9b0');\n",
              "          const dataTable =\n",
              "            await google.colab.kernel.invokeFunction('convertToInteractive',\n",
              "                                                     [key], {});\n",
              "          if (!dataTable) return;\n",
              "\n",
              "          const docLinkHtml = 'Like what you see? Visit the ' +\n",
              "            '<a target=\"_blank\" href=https://colab.research.google.com/notebooks/data_table.ipynb>data table notebook</a>'\n",
              "            + ' to learn more about interactive tables.';\n",
              "          element.innerHTML = '';\n",
              "          dataTable['output_type'] = 'display_data';\n",
              "          await google.colab.output.renderOutput(dataTable, element);\n",
              "          const docLink = document.createElement('div');\n",
              "          docLink.innerHTML = docLinkHtml;\n",
              "          element.appendChild(docLink);\n",
              "        }\n",
              "      </script>\n",
              "    </div>\n",
              "  </div>\n",
              "  "
            ]
          },
          "metadata": {},
          "execution_count": 4
        }
      ],
      "source": [
        "bankTrainData = pd.read_csv('/content/gdrive/My Drive/projectData/ass3/q1/data/bank_dataset/bank_train.csv', header=0, delimiter=';')\n",
        "bankTestData = pd.read_csv('/content/gdrive/My Drive/projectData/ass3/q1/data/bank_dataset/bank_test.csv', header=0, delimiter=';')\n",
        "bankTrainData"
      ]
    },
    {
      "cell_type": "code",
      "execution_count": 5,
      "metadata": {
        "colab": {
          "base_uri": "https://localhost:8080/"
        },
        "id": "9eP3Nt6KJyDF",
        "outputId": "c6d29f8e-b9bd-4a92-c840-c73eee2b860b"
      },
      "outputs": [
        {
          "output_type": "execute_result",
          "data": {
            "text/plain": [
              "(36168, 17, 4521)"
            ]
          },
          "metadata": {},
          "execution_count": 5
        }
      ],
      "source": [
        "m = bankTrainData.shape[0]\n",
        "n = bankTrainData.shape[1]\n",
        "testRow = bankTestData.shape[0]\n",
        "m, n, testRow"
      ]
    },
    {
      "cell_type": "markdown",
      "source": [
        "We got a total of 36168 training data, each having 17 columns(i.e., 16 features and 1 labels)"
      ],
      "metadata": {
        "id": "3UkE4htzMoK7"
      }
    },
    {
      "cell_type": "code",
      "execution_count": 6,
      "metadata": {
        "colab": {
          "base_uri": "https://localhost:8080/"
        },
        "id": "z8jWS2dwJyDG",
        "outputId": "e05bb785-3927-48ce-ace2-35521b817df3"
      },
      "outputs": [
        {
          "output_type": "execute_result",
          "data": {
            "text/plain": [
              "(36168, 16)"
            ]
          },
          "metadata": {},
          "execution_count": 6
        }
      ],
      "source": [
        "XTrain = bankTrainData.iloc[:,:-1]\n",
        "yTrain = bankTrainData.iloc[:,-1]\n",
        "XTest = bankTestData.iloc[:,:-1]\n",
        "yTest = bankTestData.iloc[:,-1]\n",
        "XTrain.shape"
      ]
    },
    {
      "cell_type": "markdown",
      "metadata": {
        "id": "_VSdawC1JyDH"
      },
      "source": [
        "## Decision Tree Construction \n",
        "\n",
        "\n",
        "Construct a decision tree using the given data to predict which clients subscribed a term deposit. You should use mutual information as the criteria for selecting the attribute to split on. At each node, you should select the attribute which results in maximum decrease in the entropy of the class variable (i.e. has the highest mutual information with respect to the class variable). \n",
        "\n",
        "This problem has some attributes as numerical and some as categorical. For handling numerical attributes, you should use the following procedure. At any given internal node of the tree, a numerical attribute is considered for a two way split by calculating the median attribute value from the data instances coming to that node, and then computing the information gain if the data was split based on whether the numerical value of the attribute is greater than the median or not. \n",
        "\n",
        "For example, if we have have 10 instances coming to a node, with values of an attribute being\n",
        "1(0,0,0,1,1,2,2,2,3,4) in the 10 instances, then we will split on value 1 of the attribute (median). At\n",
        "any step, choose the attribute which results in highest mutual information by splitting on its median\n",
        "value as described above. For categorical attributes, you can use the following two strategies \n",
        "(a) We can do a multi-way split by creating one decision tree branch for each possible value of the attribute.\n",
        "(b) We can do a two way split by first converting the attribute to a one-hot encoding, and then,\n",
        "treating each one-hot value as a separate Boolean valued attribute. "
      ]
    },
    {
      "cell_type": "code",
      "execution_count": 7,
      "metadata": {
        "colab": {
          "base_uri": "https://localhost:8080/"
        },
        "id": "dPl5wJATJyDI",
        "outputId": "51006ebb-1817-42e0-bbca-664b2abe931e"
      },
      "outputs": [
        {
          "output_type": "execute_result",
          "data": {
            "text/plain": [
              "Index(['age', 'job', 'marital', 'education', 'default', 'balance', 'housing',\n",
              "       'loan', 'contact', 'day', 'month', 'duration', 'campaign', 'pdays',\n",
              "       'previous', 'poutcome'],\n",
              "      dtype='object')"
            ]
          },
          "metadata": {},
          "execution_count": 7
        }
      ],
      "source": [
        "featuresName = XTrain.keys()\n",
        "featuresName"
      ]
    },
    {
      "cell_type": "code",
      "execution_count": 8,
      "metadata": {
        "colab": {
          "base_uri": "https://localhost:8080/"
        },
        "id": "4onJEgnOJyDJ",
        "outputId": "5f648589-4457-4b50-f250-02a6d7aeb11d"
      },
      "outputs": [
        {
          "output_type": "stream",
          "name": "stdout",
          "text": [
            "<class 'pandas.core.frame.DataFrame'>\n",
            "RangeIndex: 36168 entries, 0 to 36167\n",
            "Data columns (total 16 columns):\n",
            " #   Column     Non-Null Count  Dtype \n",
            "---  ------     --------------  ----- \n",
            " 0   age        36168 non-null  int64 \n",
            " 1   job        36168 non-null  object\n",
            " 2   marital    36168 non-null  object\n",
            " 3   education  36168 non-null  object\n",
            " 4   default    36168 non-null  object\n",
            " 5   balance    36168 non-null  int64 \n",
            " 6   housing    36168 non-null  object\n",
            " 7   loan       36168 non-null  object\n",
            " 8   contact    36168 non-null  object\n",
            " 9   day        36168 non-null  int64 \n",
            " 10  month      36168 non-null  object\n",
            " 11  duration   36168 non-null  int64 \n",
            " 12  campaign   36168 non-null  int64 \n",
            " 13  pdays      36168 non-null  int64 \n",
            " 14  previous   36168 non-null  int64 \n",
            " 15  poutcome   36168 non-null  object\n",
            "dtypes: int64(7), object(9)\n",
            "memory usage: 4.4+ MB\n"
          ]
        }
      ],
      "source": [
        "XTrain.info()"
      ]
    },
    {
      "cell_type": "markdown",
      "source": [
        "Feature Engineering, convertingf object data type into integer"
      ],
      "metadata": {
        "id": "aaUHW5o5Nay3"
      }
    },
    {
      "cell_type": "code",
      "execution_count": 9,
      "metadata": {
        "id": "vD17aSubJyDK"
      },
      "outputs": [],
      "source": [
        "def oneHotCoding(feature):\n",
        "    m = len(feature)\n",
        "    discreteVal = feature.unique()\n",
        "    len_ = len(discreteVal)\n",
        "    multiArray = []\n",
        "    for i in range(m):\n",
        "        rowList = []\n",
        "        for j in range(len_):\n",
        "            if feature[i] == discreteVal[j]:\n",
        "                rowList.append(1)\n",
        "            else:\n",
        "                rowList.append(0)\n",
        "        multiArray.append(rowList)\n",
        "    #print(multiArray)\n",
        "    df = pd.DataFrame(multiArray, columns = discreteVal)\n",
        "    return df"
      ]
    },
    {
      "cell_type": "code",
      "execution_count": 10,
      "metadata": {
        "colab": {
          "base_uri": "https://localhost:8080/"
        },
        "id": "2lF4_mt0JyDM",
        "outputId": "7b04c891-4234-42d6-d058-55372ae5be8c"
      },
      "outputs": [
        {
          "output_type": "execute_result",
          "data": {
            "text/plain": [
              "Index(['age', 'balance', 'day', 'duration', 'campaign', 'pdays', 'previous',\n",
              "       'unemployed', 'technician', 'management', 'blue-collar', 'admin.',\n",
              "       'services', 'self-employed', 'retired', 'housemaid', 'student',\n",
              "       'entrepreneur', 'unknown', 'married', 'divorced', 'single', 'secondary',\n",
              "       'tertiary', 'unknown1', 'primary', 'no', 'yes', 'no1', 'yes1', 'no2',\n",
              "       'yes2', 'cellular', 'unknown2', 'telephone', 'feb', 'jun', 'nov', 'jul',\n",
              "       'may', 'aug', 'apr', 'dec', 'jan', 'oct', 'mar', 'sep', 'unknown3',\n",
              "       'failure', 'other', 'success'],\n",
              "      dtype='object')"
            ]
          },
          "metadata": {},
          "execution_count": 10
        }
      ],
      "source": [
        "for feature in featuresName:\n",
        "    if XTrain[feature].dtype != np.int64:\n",
        "        df = oneHotCoding(XTrain[feature])\n",
        "        commonName = set(XTrain.keys()).intersection(set(df.keys()))\n",
        "        if commonName:    \n",
        "            for name in commonName:\n",
        "                i = 1\n",
        "                while(True):\n",
        "                    newName = name + str(i)\n",
        "                    if newName in XTrain.keys():\n",
        "                        i+=1\n",
        "                    else:\n",
        "                        df.rename(columns = {name:newName}, inplace=True)\n",
        "                        break\n",
        "        XTrain = pd.concat([XTrain, df], axis=1)\n",
        "        XTrain.drop([feature], axis=1, inplace=True)\n",
        "newFeaturesName = XTrain.keys()\n",
        "newFeaturesName"
      ]
    },
    {
      "cell_type": "markdown",
      "metadata": {
        "id": "PmTDEV_IJyDM"
      },
      "source": [
        "Column with same names being modified by appendind literal behind it, features like 'unknown', 'yes' and 'no'"
      ]
    },
    {
      "cell_type": "code",
      "execution_count": 11,
      "metadata": {
        "colab": {
          "base_uri": "https://localhost:8080/",
          "height": 488
        },
        "id": "9sKr2mYDJyDN",
        "outputId": "c120cfca-4a37-40b1-9da6-20983bba6be3"
      },
      "outputs": [
        {
          "output_type": "execute_result",
          "data": {
            "text/plain": [
              "       age  balance  day  duration  campaign  pdays  previous  unemployed  \\\n",
              "0       57      890    5       343         4     -1         0           1   \n",
              "1       56     2558   19       288         1     -1         0           0   \n",
              "2       50      267   21        30         1     -1         0           0   \n",
              "3       47     4567   31       921         4     -1         0           0   \n",
              "4       49     5887    2       181         3    293         2           0   \n",
              "...    ...      ...  ...       ...       ...    ...       ...         ...   \n",
              "36163   37      128    8       379         3     -1         0           0   \n",
              "36164   43      593    5        55         1     -1         0           0   \n",
              "36165   32      145    6       135         2     -1         0           0   \n",
              "36166   35     -215   31        57        34     -1         0           0   \n",
              "36167   69    23592    3       837         3     -1         0           0   \n",
              "\n",
              "       technician  management  ...  apr  dec  jan  oct  mar  sep  unknown3  \\\n",
              "0               0           0  ...    0    0    0    0    0    0         1   \n",
              "1               1           0  ...    0    0    0    0    0    0         1   \n",
              "2               1           0  ...    0    0    0    0    0    0         1   \n",
              "3               0           1  ...    0    0    0    0    0    0         1   \n",
              "4               0           1  ...    0    0    0    0    0    0         0   \n",
              "...           ...         ...  ...  ...  ...  ...  ...  ...  ...       ...   \n",
              "36163           0           0  ...    0    0    0    0    0    0         1   \n",
              "36164           1           0  ...    0    0    0    0    0    0         1   \n",
              "36165           1           0  ...    0    0    0    0    0    0         1   \n",
              "36166           1           0  ...    0    0    0    0    0    0         1   \n",
              "36167           0           0  ...    0    0    0    0    0    0         1   \n",
              "\n",
              "       failure  other  success  \n",
              "0            0      0        0  \n",
              "1            0      0        0  \n",
              "2            0      0        0  \n",
              "3            0      0        0  \n",
              "4            1      0        0  \n",
              "...        ...    ...      ...  \n",
              "36163        0      0        0  \n",
              "36164        0      0        0  \n",
              "36165        0      0        0  \n",
              "36166        0      0        0  \n",
              "36167        0      0        0  \n",
              "\n",
              "[36168 rows x 51 columns]"
            ],
            "text/html": [
              "\n",
              "  <div id=\"df-1d1af9cb-f5ce-4cb6-9709-25a01f120ad0\">\n",
              "    <div class=\"colab-df-container\">\n",
              "      <div>\n",
              "<style scoped>\n",
              "    .dataframe tbody tr th:only-of-type {\n",
              "        vertical-align: middle;\n",
              "    }\n",
              "\n",
              "    .dataframe tbody tr th {\n",
              "        vertical-align: top;\n",
              "    }\n",
              "\n",
              "    .dataframe thead th {\n",
              "        text-align: right;\n",
              "    }\n",
              "</style>\n",
              "<table border=\"1\" class=\"dataframe\">\n",
              "  <thead>\n",
              "    <tr style=\"text-align: right;\">\n",
              "      <th></th>\n",
              "      <th>age</th>\n",
              "      <th>balance</th>\n",
              "      <th>day</th>\n",
              "      <th>duration</th>\n",
              "      <th>campaign</th>\n",
              "      <th>pdays</th>\n",
              "      <th>previous</th>\n",
              "      <th>unemployed</th>\n",
              "      <th>technician</th>\n",
              "      <th>management</th>\n",
              "      <th>...</th>\n",
              "      <th>apr</th>\n",
              "      <th>dec</th>\n",
              "      <th>jan</th>\n",
              "      <th>oct</th>\n",
              "      <th>mar</th>\n",
              "      <th>sep</th>\n",
              "      <th>unknown3</th>\n",
              "      <th>failure</th>\n",
              "      <th>other</th>\n",
              "      <th>success</th>\n",
              "    </tr>\n",
              "  </thead>\n",
              "  <tbody>\n",
              "    <tr>\n",
              "      <th>0</th>\n",
              "      <td>57</td>\n",
              "      <td>890</td>\n",
              "      <td>5</td>\n",
              "      <td>343</td>\n",
              "      <td>4</td>\n",
              "      <td>-1</td>\n",
              "      <td>0</td>\n",
              "      <td>1</td>\n",
              "      <td>0</td>\n",
              "      <td>0</td>\n",
              "      <td>...</td>\n",
              "      <td>0</td>\n",
              "      <td>0</td>\n",
              "      <td>0</td>\n",
              "      <td>0</td>\n",
              "      <td>0</td>\n",
              "      <td>0</td>\n",
              "      <td>1</td>\n",
              "      <td>0</td>\n",
              "      <td>0</td>\n",
              "      <td>0</td>\n",
              "    </tr>\n",
              "    <tr>\n",
              "      <th>1</th>\n",
              "      <td>56</td>\n",
              "      <td>2558</td>\n",
              "      <td>19</td>\n",
              "      <td>288</td>\n",
              "      <td>1</td>\n",
              "      <td>-1</td>\n",
              "      <td>0</td>\n",
              "      <td>0</td>\n",
              "      <td>1</td>\n",
              "      <td>0</td>\n",
              "      <td>...</td>\n",
              "      <td>0</td>\n",
              "      <td>0</td>\n",
              "      <td>0</td>\n",
              "      <td>0</td>\n",
              "      <td>0</td>\n",
              "      <td>0</td>\n",
              "      <td>1</td>\n",
              "      <td>0</td>\n",
              "      <td>0</td>\n",
              "      <td>0</td>\n",
              "    </tr>\n",
              "    <tr>\n",
              "      <th>2</th>\n",
              "      <td>50</td>\n",
              "      <td>267</td>\n",
              "      <td>21</td>\n",
              "      <td>30</td>\n",
              "      <td>1</td>\n",
              "      <td>-1</td>\n",
              "      <td>0</td>\n",
              "      <td>0</td>\n",
              "      <td>1</td>\n",
              "      <td>0</td>\n",
              "      <td>...</td>\n",
              "      <td>0</td>\n",
              "      <td>0</td>\n",
              "      <td>0</td>\n",
              "      <td>0</td>\n",
              "      <td>0</td>\n",
              "      <td>0</td>\n",
              "      <td>1</td>\n",
              "      <td>0</td>\n",
              "      <td>0</td>\n",
              "      <td>0</td>\n",
              "    </tr>\n",
              "    <tr>\n",
              "      <th>3</th>\n",
              "      <td>47</td>\n",
              "      <td>4567</td>\n",
              "      <td>31</td>\n",
              "      <td>921</td>\n",
              "      <td>4</td>\n",
              "      <td>-1</td>\n",
              "      <td>0</td>\n",
              "      <td>0</td>\n",
              "      <td>0</td>\n",
              "      <td>1</td>\n",
              "      <td>...</td>\n",
              "      <td>0</td>\n",
              "      <td>0</td>\n",
              "      <td>0</td>\n",
              "      <td>0</td>\n",
              "      <td>0</td>\n",
              "      <td>0</td>\n",
              "      <td>1</td>\n",
              "      <td>0</td>\n",
              "      <td>0</td>\n",
              "      <td>0</td>\n",
              "    </tr>\n",
              "    <tr>\n",
              "      <th>4</th>\n",
              "      <td>49</td>\n",
              "      <td>5887</td>\n",
              "      <td>2</td>\n",
              "      <td>181</td>\n",
              "      <td>3</td>\n",
              "      <td>293</td>\n",
              "      <td>2</td>\n",
              "      <td>0</td>\n",
              "      <td>0</td>\n",
              "      <td>1</td>\n",
              "      <td>...</td>\n",
              "      <td>0</td>\n",
              "      <td>0</td>\n",
              "      <td>0</td>\n",
              "      <td>0</td>\n",
              "      <td>0</td>\n",
              "      <td>0</td>\n",
              "      <td>0</td>\n",
              "      <td>1</td>\n",
              "      <td>0</td>\n",
              "      <td>0</td>\n",
              "    </tr>\n",
              "    <tr>\n",
              "      <th>...</th>\n",
              "      <td>...</td>\n",
              "      <td>...</td>\n",
              "      <td>...</td>\n",
              "      <td>...</td>\n",
              "      <td>...</td>\n",
              "      <td>...</td>\n",
              "      <td>...</td>\n",
              "      <td>...</td>\n",
              "      <td>...</td>\n",
              "      <td>...</td>\n",
              "      <td>...</td>\n",
              "      <td>...</td>\n",
              "      <td>...</td>\n",
              "      <td>...</td>\n",
              "      <td>...</td>\n",
              "      <td>...</td>\n",
              "      <td>...</td>\n",
              "      <td>...</td>\n",
              "      <td>...</td>\n",
              "      <td>...</td>\n",
              "      <td>...</td>\n",
              "    </tr>\n",
              "    <tr>\n",
              "      <th>36163</th>\n",
              "      <td>37</td>\n",
              "      <td>128</td>\n",
              "      <td>8</td>\n",
              "      <td>379</td>\n",
              "      <td>3</td>\n",
              "      <td>-1</td>\n",
              "      <td>0</td>\n",
              "      <td>0</td>\n",
              "      <td>0</td>\n",
              "      <td>0</td>\n",
              "      <td>...</td>\n",
              "      <td>0</td>\n",
              "      <td>0</td>\n",
              "      <td>0</td>\n",
              "      <td>0</td>\n",
              "      <td>0</td>\n",
              "      <td>0</td>\n",
              "      <td>1</td>\n",
              "      <td>0</td>\n",
              "      <td>0</td>\n",
              "      <td>0</td>\n",
              "    </tr>\n",
              "    <tr>\n",
              "      <th>36164</th>\n",
              "      <td>43</td>\n",
              "      <td>593</td>\n",
              "      <td>5</td>\n",
              "      <td>55</td>\n",
              "      <td>1</td>\n",
              "      <td>-1</td>\n",
              "      <td>0</td>\n",
              "      <td>0</td>\n",
              "      <td>1</td>\n",
              "      <td>0</td>\n",
              "      <td>...</td>\n",
              "      <td>0</td>\n",
              "      <td>0</td>\n",
              "      <td>0</td>\n",
              "      <td>0</td>\n",
              "      <td>0</td>\n",
              "      <td>0</td>\n",
              "      <td>1</td>\n",
              "      <td>0</td>\n",
              "      <td>0</td>\n",
              "      <td>0</td>\n",
              "    </tr>\n",
              "    <tr>\n",
              "      <th>36165</th>\n",
              "      <td>32</td>\n",
              "      <td>145</td>\n",
              "      <td>6</td>\n",
              "      <td>135</td>\n",
              "      <td>2</td>\n",
              "      <td>-1</td>\n",
              "      <td>0</td>\n",
              "      <td>0</td>\n",
              "      <td>1</td>\n",
              "      <td>0</td>\n",
              "      <td>...</td>\n",
              "      <td>0</td>\n",
              "      <td>0</td>\n",
              "      <td>0</td>\n",
              "      <td>0</td>\n",
              "      <td>0</td>\n",
              "      <td>0</td>\n",
              "      <td>1</td>\n",
              "      <td>0</td>\n",
              "      <td>0</td>\n",
              "      <td>0</td>\n",
              "    </tr>\n",
              "    <tr>\n",
              "      <th>36166</th>\n",
              "      <td>35</td>\n",
              "      <td>-215</td>\n",
              "      <td>31</td>\n",
              "      <td>57</td>\n",
              "      <td>34</td>\n",
              "      <td>-1</td>\n",
              "      <td>0</td>\n",
              "      <td>0</td>\n",
              "      <td>1</td>\n",
              "      <td>0</td>\n",
              "      <td>...</td>\n",
              "      <td>0</td>\n",
              "      <td>0</td>\n",
              "      <td>0</td>\n",
              "      <td>0</td>\n",
              "      <td>0</td>\n",
              "      <td>0</td>\n",
              "      <td>1</td>\n",
              "      <td>0</td>\n",
              "      <td>0</td>\n",
              "      <td>0</td>\n",
              "    </tr>\n",
              "    <tr>\n",
              "      <th>36167</th>\n",
              "      <td>69</td>\n",
              "      <td>23592</td>\n",
              "      <td>3</td>\n",
              "      <td>837</td>\n",
              "      <td>3</td>\n",
              "      <td>-1</td>\n",
              "      <td>0</td>\n",
              "      <td>0</td>\n",
              "      <td>0</td>\n",
              "      <td>0</td>\n",
              "      <td>...</td>\n",
              "      <td>0</td>\n",
              "      <td>0</td>\n",
              "      <td>0</td>\n",
              "      <td>0</td>\n",
              "      <td>0</td>\n",
              "      <td>0</td>\n",
              "      <td>1</td>\n",
              "      <td>0</td>\n",
              "      <td>0</td>\n",
              "      <td>0</td>\n",
              "    </tr>\n",
              "  </tbody>\n",
              "</table>\n",
              "<p>36168 rows × 51 columns</p>\n",
              "</div>\n",
              "      <button class=\"colab-df-convert\" onclick=\"convertToInteractive('df-1d1af9cb-f5ce-4cb6-9709-25a01f120ad0')\"\n",
              "              title=\"Convert this dataframe to an interactive table.\"\n",
              "              style=\"display:none;\">\n",
              "        \n",
              "  <svg xmlns=\"http://www.w3.org/2000/svg\" height=\"24px\"viewBox=\"0 0 24 24\"\n",
              "       width=\"24px\">\n",
              "    <path d=\"M0 0h24v24H0V0z\" fill=\"none\"/>\n",
              "    <path d=\"M18.56 5.44l.94 2.06.94-2.06 2.06-.94-2.06-.94-.94-2.06-.94 2.06-2.06.94zm-11 1L8.5 8.5l.94-2.06 2.06-.94-2.06-.94L8.5 2.5l-.94 2.06-2.06.94zm10 10l.94 2.06.94-2.06 2.06-.94-2.06-.94-.94-2.06-.94 2.06-2.06.94z\"/><path d=\"M17.41 7.96l-1.37-1.37c-.4-.4-.92-.59-1.43-.59-.52 0-1.04.2-1.43.59L10.3 9.45l-7.72 7.72c-.78.78-.78 2.05 0 2.83L4 21.41c.39.39.9.59 1.41.59.51 0 1.02-.2 1.41-.59l7.78-7.78 2.81-2.81c.8-.78.8-2.07 0-2.86zM5.41 20L4 18.59l7.72-7.72 1.47 1.35L5.41 20z\"/>\n",
              "  </svg>\n",
              "      </button>\n",
              "      \n",
              "  <style>\n",
              "    .colab-df-container {\n",
              "      display:flex;\n",
              "      flex-wrap:wrap;\n",
              "      gap: 12px;\n",
              "    }\n",
              "\n",
              "    .colab-df-convert {\n",
              "      background-color: #E8F0FE;\n",
              "      border: none;\n",
              "      border-radius: 50%;\n",
              "      cursor: pointer;\n",
              "      display: none;\n",
              "      fill: #1967D2;\n",
              "      height: 32px;\n",
              "      padding: 0 0 0 0;\n",
              "      width: 32px;\n",
              "    }\n",
              "\n",
              "    .colab-df-convert:hover {\n",
              "      background-color: #E2EBFA;\n",
              "      box-shadow: 0px 1px 2px rgba(60, 64, 67, 0.3), 0px 1px 3px 1px rgba(60, 64, 67, 0.15);\n",
              "      fill: #174EA6;\n",
              "    }\n",
              "\n",
              "    [theme=dark] .colab-df-convert {\n",
              "      background-color: #3B4455;\n",
              "      fill: #D2E3FC;\n",
              "    }\n",
              "\n",
              "    [theme=dark] .colab-df-convert:hover {\n",
              "      background-color: #434B5C;\n",
              "      box-shadow: 0px 1px 3px 1px rgba(0, 0, 0, 0.15);\n",
              "      filter: drop-shadow(0px 1px 2px rgba(0, 0, 0, 0.3));\n",
              "      fill: #FFFFFF;\n",
              "    }\n",
              "  </style>\n",
              "\n",
              "      <script>\n",
              "        const buttonEl =\n",
              "          document.querySelector('#df-1d1af9cb-f5ce-4cb6-9709-25a01f120ad0 button.colab-df-convert');\n",
              "        buttonEl.style.display =\n",
              "          google.colab.kernel.accessAllowed ? 'block' : 'none';\n",
              "\n",
              "        async function convertToInteractive(key) {\n",
              "          const element = document.querySelector('#df-1d1af9cb-f5ce-4cb6-9709-25a01f120ad0');\n",
              "          const dataTable =\n",
              "            await google.colab.kernel.invokeFunction('convertToInteractive',\n",
              "                                                     [key], {});\n",
              "          if (!dataTable) return;\n",
              "\n",
              "          const docLinkHtml = 'Like what you see? Visit the ' +\n",
              "            '<a target=\"_blank\" href=https://colab.research.google.com/notebooks/data_table.ipynb>data table notebook</a>'\n",
              "            + ' to learn more about interactive tables.';\n",
              "          element.innerHTML = '';\n",
              "          dataTable['output_type'] = 'display_data';\n",
              "          await google.colab.output.renderOutput(dataTable, element);\n",
              "          const docLink = document.createElement('div');\n",
              "          docLink.innerHTML = docLinkHtml;\n",
              "          element.appendChild(docLink);\n",
              "        }\n",
              "      </script>\n",
              "    </div>\n",
              "  </div>\n",
              "  "
            ]
          },
          "metadata": {},
          "execution_count": 11
        }
      ],
      "source": [
        "XTrain"
      ]
    },
    {
      "cell_type": "code",
      "execution_count": 12,
      "metadata": {
        "colab": {
          "base_uri": "https://localhost:8080/"
        },
        "id": "E0amd3dbJyDN",
        "outputId": "3c66a172-2c06-44cf-f20f-24b95d011337"
      },
      "outputs": [
        {
          "output_type": "execute_result",
          "data": {
            "text/plain": [
              "array([ -1,   1,   2,   3,   4,   5,   6,   7,   8,   9,  10,  12,  13,\n",
              "        14,  15,  17,  18,  19,  20,  21,  22,  24,  26,  27,  28,  29,\n",
              "        30,  31,  33,  34,  35,  36,  37,  38,  39,  40,  41,  42,  43,\n",
              "        44,  45,  46,  47,  48,  49,  50,  51,  52,  53,  54,  55,  56,\n",
              "        57,  58,  59,  60,  61,  62,  63,  64,  65,  66,  67,  68,  69,\n",
              "        70,  71,  72,  73,  74,  75,  76,  77,  78,  79,  80,  81,  82,\n",
              "        83,  84,  85,  86,  87,  88,  89,  90,  91,  92,  93,  94,  95,\n",
              "        96,  97,  98,  99, 100, 101, 102, 103, 104, 105, 106, 107, 108,\n",
              "       109, 110, 111, 112, 113, 114, 115, 116, 117, 118, 119, 120, 121,\n",
              "       122, 123, 124, 125, 126, 127, 128, 129, 130, 131, 132, 133, 134,\n",
              "       135, 136, 137, 138, 139, 140, 141, 142, 143, 144, 145, 146, 147,\n",
              "       148, 149, 150, 151, 152, 153, 154, 155, 156, 157, 158, 159, 160,\n",
              "       161, 162, 163, 164, 165, 166, 167, 168, 169, 170, 171, 172, 173,\n",
              "       174, 175, 176, 177, 178, 179, 180, 181, 182, 183, 184, 185, 186,\n",
              "       187, 188, 189, 190, 191, 192, 193, 194, 195, 196, 197, 198, 199,\n",
              "       200, 201, 202, 203, 204, 205, 206, 207, 208, 209, 210, 211, 212,\n",
              "       213, 214, 215, 216, 217, 218, 219, 220, 221, 222, 223, 224, 225,\n",
              "       226, 227, 228, 229, 230, 231, 232, 233, 234, 235, 236, 237, 238,\n",
              "       239, 240, 241, 242, 243, 244, 245, 246, 247, 248, 249, 250, 251,\n",
              "       252, 253, 254, 255, 256, 257, 258, 259, 260, 261, 262, 263, 264,\n",
              "       265, 266, 267, 268, 269, 270, 271, 272, 273, 274, 275, 276, 277,\n",
              "       278, 279, 280, 281, 282, 283, 284, 285, 286, 287, 288, 289, 290,\n",
              "       291, 292, 293, 294, 295, 296, 297, 298, 299, 300, 301, 302, 303,\n",
              "       304, 305, 306, 307, 308, 309, 310, 311, 312, 313, 314, 315, 316,\n",
              "       317, 318, 319, 320, 321, 322, 323, 324, 325, 326, 327, 328, 329,\n",
              "       330, 331, 332, 333, 334, 335, 336, 337, 338, 339, 340, 341, 342,\n",
              "       343, 344, 345, 346, 347, 348, 349, 350, 351, 352, 353, 354, 355,\n",
              "       356, 357, 358, 359, 360, 361, 362, 363, 364, 365, 366, 367, 368,\n",
              "       369, 370, 371, 372, 373, 374, 375, 376, 377, 378, 379, 381, 382,\n",
              "       383, 384, 385, 386, 387, 388, 389, 390, 391, 392, 393, 394, 395,\n",
              "       397, 398, 399, 401, 403, 405, 407, 409, 410, 411, 412, 413, 414,\n",
              "       415, 416, 417, 420, 421, 422, 424, 425, 426, 427, 428, 430, 431,\n",
              "       432, 433, 434, 435, 436, 439, 440, 442, 445, 446, 449, 450, 452,\n",
              "       455, 456, 457, 458, 459, 460, 461, 462, 463, 464, 465, 466, 467,\n",
              "       469, 470, 472, 474, 475, 477, 478, 479, 481, 484, 485, 486, 490,\n",
              "       491, 493, 495, 500, 503, 504, 508, 511, 514, 515, 520, 521, 524,\n",
              "       526, 528, 529, 530, 531, 535, 536, 541, 542, 543, 547, 551, 555,\n",
              "       557, 558, 561, 562, 579, 585, 586, 589, 592, 594, 616, 626, 633,\n",
              "       648, 651, 655, 656, 667, 670, 674, 680, 683, 687, 690, 701, 717,\n",
              "       728, 745, 749, 760, 769, 771, 772, 775, 776, 778, 779, 782, 784,\n",
              "       791, 792, 805, 808, 826, 838, 842, 854, 871])"
            ]
          },
          "metadata": {},
          "execution_count": 12
        }
      ],
      "source": [
        "np.unique(XTrain['pdays'])"
      ]
    },
    {
      "cell_type": "markdown",
      "metadata": {
        "id": "p14yfbJqJyDO"
      },
      "source": [
        "Converting y categorical value from ['no', 'yes'] to [0, 1]"
      ]
    },
    {
      "cell_type": "code",
      "execution_count": 13,
      "metadata": {
        "id": "ZP0guJ0lJyDO"
      },
      "outputs": [],
      "source": [
        "yTrain.replace([ele for ele in yTrain.unique()], [ele for ele in range(len(yTrain.unique()))], inplace= True)"
      ]
    },
    {
      "cell_type": "code",
      "execution_count": 14,
      "metadata": {
        "colab": {
          "base_uri": "https://localhost:8080/"
        },
        "id": "z1-o6gKKJyDP",
        "outputId": "1b3ce195-b381-4660-d9f4-118fbcb6db37"
      },
      "outputs": [
        {
          "output_type": "execute_result",
          "data": {
            "text/plain": [
              "0        0\n",
              "1        0\n",
              "2        0\n",
              "3        0\n",
              "4        1\n",
              "        ..\n",
              "36163    0\n",
              "36164    0\n",
              "36165    0\n",
              "36166    0\n",
              "36167    0\n",
              "Name: y, Length: 36168, dtype: int64"
            ]
          },
          "metadata": {},
          "execution_count": 14
        }
      ],
      "source": [
        "yTrain"
      ]
    },
    {
      "cell_type": "markdown",
      "source": [
        "## Using the Concept of Mutuao Information for decision Tree"
      ],
      "metadata": {
        "id": "d95_uOs2OY3s"
      }
    },
    {
      "cell_type": "code",
      "execution_count": 16,
      "metadata": {
        "id": "B8rZxl7wJyDP"
      },
      "outputs": [],
      "source": [
        "def calculateEntropy(yLabel):\n",
        "    totalLen = len(yLabel)\n",
        "    label0 = yLabel[yLabel==0]\n",
        "    lenLabel0 = len(label0)\n",
        "    label1 = yLabel[yLabel==1]\n",
        "    lenLabel1 = len(label1)\n",
        "    \n",
        "    probLabel0 = lenLabel0/totalLen\n",
        "    probLabel1 = lenLabel1/totalLen\n",
        "    if probLabel0 == 0 and probLabel1 == 0:\n",
        "        return 0\n",
        "    elif probLabel0 == 0:\n",
        "        return -probLabel1*np.log(probLabel1)\n",
        "    elif probLabel1 == 0:\n",
        "        return -probLabel0*np.log(probLabel0)\n",
        "    else:\n",
        "        ent = -probLabel0*np.log(probLabel0) - probLabel1*np.log(probLabel1)\n",
        "        return ent\n",
        "    "
      ]
    },
    {
      "cell_type": "code",
      "execution_count": 17,
      "metadata": {
        "colab": {
          "base_uri": "https://localhost:8080/"
        },
        "id": "fsMEXMKHJyDQ",
        "outputId": "33de4fa3-6034-4b37-aaed-8fe854d70623"
      },
      "outputs": [
        {
          "output_type": "execute_result",
          "data": {
            "text/plain": [
              "0.35969285154524766"
            ]
          },
          "metadata": {},
          "execution_count": 17
        }
      ],
      "source": [
        "calculateEntropy(yTrain)"
      ]
    },
    {
      "cell_type": "code",
      "execution_count": 18,
      "metadata": {
        "id": "OF9BUoV2JyDQ"
      },
      "outputs": [],
      "source": [
        "def mutualInfo(X, featureName, y):\n",
        "    discreteVal = np.unique(X[featureName])\n",
        "    k = len(discreteVal)\n",
        "    \n",
        "    if k == 2:\n",
        "        indexX0 = list(X[X[featureName]==discreteVal[0]].index)\n",
        "        indexX1 = list(X[X[featureName]==discreteVal[1]].index)\n",
        "        ySeriesX0 = y[indexX0]\n",
        "        ySeriesX1 = y[indexX1]\n",
        "    else:\n",
        "        med = np.median(X[featureName])\n",
        "        indexX0 = list(X[X[featureName]>med].index)\n",
        "        indexX1 = list(X[X[featureName]<=med].index)\n",
        "        ySeriesX0 = y[indexX0]\n",
        "        ySeriesX1 = y[indexX1]\n",
        "    \n",
        "    totalLen = len(y)\n",
        "    label0 = y[y==0]\n",
        "    lenLabel0 = len(label0)\n",
        "    label1 = y[y==1]\n",
        "    lenLabel1 = len(label1)\n",
        "\n",
        "    probLabel0 = lenLabel0/totalLen\n",
        "    probLabel1 = lenLabel1/totalLen\n",
        "\n",
        "    if len(ySeriesX0) < 100 or len(ySeriesX0) < 100:\n",
        "        return -1\n",
        "    H_y = calculateEntropy(y)\n",
        "    H_yX0 = calculateEntropy(ySeriesX0)\n",
        "    H_yX1 = calculateEntropy(ySeriesX1)\n",
        "    mi = H_y - (probLabel0*H_yX0 + probLabel1*H_yX1)\n",
        "    return mi"
      ]
    },
    {
      "cell_type": "code",
      "execution_count": 19,
      "metadata": {
        "id": "TmQ_ibqmJyDR"
      },
      "outputs": [],
      "source": [
        "def getFeature(featureList, X, y):\n",
        "    max_ = 0\n",
        "    featureName = ''\n",
        "    for feature in featureList:\n",
        "        mi = mutualInfo(X, feature, y)\n",
        "        if mi > max_:\n",
        "            max_ = mi\n",
        "            featureName = feature\n",
        "    return featureName"
      ]
    },
    {
      "cell_type": "code",
      "execution_count": 20,
      "metadata": {
        "colab": {
          "base_uri": "https://localhost:8080/",
          "height": 35
        },
        "id": "wVhWhiQ3JyDR",
        "outputId": "39dce1ec-94d1-49c1-9a4a-456ae56112f2"
      },
      "outputs": [
        {
          "output_type": "execute_result",
          "data": {
            "text/plain": [
              "'cellular'"
            ],
            "application/vnd.google.colaboratory.intrinsic+json": {
              "type": "string"
            }
          },
          "metadata": {},
          "execution_count": 20
        }
      ],
      "source": [
        "getFeature(newFeaturesName, XTrain, yTrain)"
      ]
    },
    {
      "cell_type": "markdown",
      "source": [
        "Defining a class node which will be used as a buliding blocks for constructing decision tree"
      ],
      "metadata": {
        "id": "0UXHahwQOlRQ"
      }
    },
    {
      "cell_type": "code",
      "execution_count": 21,
      "metadata": {
        "id": "zajPJVgmJyDR"
      },
      "outputs": [],
      "source": [
        "class Node:\n",
        "    def __init__(self, name=None, nodeType=None, left=None, right=None):\n",
        "        self.name = name\n",
        "        self.type = nodeType\n",
        "        self.leftName = left\n",
        "        self.leftnode = None\n",
        "        self.rightName = right\n",
        "        self.rightnode = None\n",
        "\n",
        "class Tree:\n",
        "    def __init__(self):\n",
        "        self.head = None"
      ]
    },
    {
      "cell_type": "code",
      "execution_count": 22,
      "metadata": {
        "id": "h_8mlPKoJyDS"
      },
      "outputs": [],
      "source": [
        "atree = Tree()\n",
        "atree.head = Node('A', 0, 1)\n",
        "atree.head.leftnode = Node('B', 0, 1)\n",
        "atree.head.rightnode = Node('C', 0, 1)"
      ]
    },
    {
      "cell_type": "code",
      "execution_count": 23,
      "metadata": {
        "colab": {
          "base_uri": "https://localhost:8080/"
        },
        "id": "NgP35tuMJyDS",
        "outputId": "b1042479-eb68-4844-f20e-c7a34e77334f"
      },
      "outputs": [
        {
          "output_type": "execute_result",
          "data": {
            "text/plain": [
              "Index(['balance', 'day', 'duration', 'campaign', 'pdays', 'previous',\n",
              "       'unemployed', 'technician', 'management', 'blue-collar', 'admin.',\n",
              "       'services', 'self-employed', 'retired', 'housemaid', 'student',\n",
              "       'entrepreneur', 'unknown', 'married', 'divorced', 'single', 'secondary',\n",
              "       'tertiary', 'unknown1', 'primary', 'no', 'yes', 'no1', 'yes1', 'no2',\n",
              "       'yes2', 'cellular', 'unknown2', 'telephone', 'feb', 'jun', 'nov', 'jul',\n",
              "       'may', 'aug', 'apr', 'dec', 'jan', 'oct', 'mar', 'sep', 'unknown3',\n",
              "       'failure', 'other', 'success'],\n",
              "      dtype='object')"
            ]
          },
          "metadata": {},
          "execution_count": 23
        }
      ],
      "source": [
        "acopy = newFeaturesName.copy()\n",
        "acopy = acopy.drop('age')\n",
        "acopy"
      ]
    },
    {
      "cell_type": "code",
      "execution_count": 24,
      "metadata": {
        "id": "k19wtIBdJyDS"
      },
      "outputs": [],
      "source": [
        "def DecisionTree(X, y, featureList):\n",
        "    if X.shape[0] < 1000:\n",
        "        numOfY = len(y)\n",
        "        numOfY0 = len(y[y==0])\n",
        "        numOfY1 = len(y[y==1])\n",
        "        probY0 = numOfY0/numOfY\n",
        "        probY1 = numOfY1/numOfY\n",
        "        label = 0 if probY0>probY1 else 1\n",
        "        anode = Node(label, 'Classification Node')\n",
        "        return anode\n",
        "    feature = getFeature(featureList, X, y)\n",
        "    #print(feature)\n",
        "    discreteVal = np.unique(X[feature])\n",
        "    k = len(discreteVal)\n",
        "\n",
        "    if k == 2:\n",
        "        firstNodeX = X[X[feature]==discreteVal[0]].copy()\n",
        "        firstNodey = y[X[feature]==discreteVal[0]].copy()\n",
        "        secondNodeX = X[X[feature]==discreteVal[1]].copy()\n",
        "        secondNodey = y[X[feature]==discreteVal[1]].copy()\n",
        "        anode = Node(feature, 'Discrete Decision Node', discreteVal[0], discreteVal[1])\n",
        "    else:\n",
        "        med = np.median(X[feature])\n",
        "        firstNodeX = X[X[feature]<med].copy()\n",
        "        firstNodey = y[X[feature]<med].copy()\n",
        "        secondNodeX = X[X[feature]>=med].copy()\n",
        "        secondNodey = y[X[feature]>=med].copy()    \n",
        "        anode = Node(feature, 'Continuous Decision Node', 'lt'+str(med), 'gteq'+str(med))\n",
        "\n",
        "    featureList = featureList.drop(feature)\n",
        "    \n",
        "    firstNodeX.drop([feature], axis=1, inplace=True)\n",
        "    secondNodeX.drop([feature], axis=1, inplace=True)\n",
        "    anode.leftnode = DecisionTree(firstNodeX, firstNodey, featureList)\n",
        "    anode.rightnode = DecisionTree(secondNodeX, secondNodey, featureList)\n",
        "\n",
        "    return anode"
      ]
    },
    {
      "cell_type": "code",
      "execution_count": 25,
      "metadata": {
        "id": "9p82V26tJyDT"
      },
      "outputs": [],
      "source": [
        "decTree = DecisionTree(XTrain, yTrain, newFeaturesName)"
      ]
    },
    {
      "cell_type": "code",
      "execution_count": 26,
      "metadata": {
        "colab": {
          "base_uri": "https://localhost:8080/"
        },
        "id": "cjoc8t0EJyDT",
        "outputId": "ecb857bb-1885-437d-8bb5-b7eb038ad989"
      },
      "outputs": [
        {
          "output_type": "execute_result",
          "data": {
            "text/plain": [
              "Index(['age', 'balance', 'day', 'duration', 'campaign', 'pdays', 'previous',\n",
              "       'blue-collar', 'technician', 'self-employed', 'admin.', 'management',\n",
              "       'student', 'services', 'entrepreneur', 'housemaid', 'unknown',\n",
              "       'unemployed', 'retired', 'married', 'single', 'divorced', 'secondary',\n",
              "       'primary', 'tertiary', 'unknown1', 'no', 'yes', 'yes1', 'no1', 'yes2',\n",
              "       'no2', 'cellular', 'unknown2', 'telephone', 'apr', 'jun', 'jul', 'feb',\n",
              "       'aug', 'may', 'jan', 'nov', 'sep', 'dec', 'oct', 'mar', 'unknown3',\n",
              "       'other', 'success', 'failure'],\n",
              "      dtype='object')"
            ]
          },
          "metadata": {},
          "execution_count": 26
        }
      ],
      "source": [
        "for feature in featuresName:\n",
        "    if XTest[feature].dtype != np.int64:\n",
        "        df = oneHotCoding(XTest[feature])\n",
        "        commonName = set(XTest.keys()).intersection(set(df.keys()))\n",
        "        if commonName:    \n",
        "            for name in commonName:\n",
        "                i = 1\n",
        "                while(True):\n",
        "                    newName = name + str(i)\n",
        "                    if newName in XTest.keys():\n",
        "                        i+=1\n",
        "                    else:\n",
        "                        df.rename(columns = {name:newName}, inplace=True)\n",
        "                        break\n",
        "        XTest = pd.concat([XTest, df], axis=1)\n",
        "        XTest.drop([feature], axis=1, inplace=True)\n",
        "newTestFeaturesName = XTest.keys()\n",
        "newTestFeaturesName"
      ]
    },
    {
      "cell_type": "code",
      "execution_count": 27,
      "metadata": {
        "id": "Hz43gcahJyDT"
      },
      "outputs": [],
      "source": [
        "yTest.replace([ele for ele in yTest.unique()], [ele for ele in range(len(yTest.unique()))], inplace= True)"
      ]
    },
    {
      "cell_type": "code",
      "execution_count": 28,
      "metadata": {
        "id": "m5Tv5MYsJyDT"
      },
      "outputs": [],
      "source": [
        "def prediction(checkX, temp):\n",
        "    while(temp):\n",
        "        if temp.type == 'Classification Node':\n",
        "            return temp.name\n",
        "        elif temp.type == 'Discrete Decision Node':\n",
        "            if checkX[temp.name] == temp.leftName:\n",
        "                temp = temp.leftnode\n",
        "            else:\n",
        "                temp = temp.rightnode\n",
        "        else:\n",
        "            sep = temp.leftName[2:]\n",
        "            if checkX[temp.name] < float(sep):\n",
        "                temp = temp.leftnode\n",
        "            else:\n",
        "                temp = temp.rightnode\n",
        "    "
      ]
    },
    {
      "cell_type": "markdown",
      "metadata": {
        "id": "OlXGHV0XJyDU"
      },
      "source": [
        "Prediction for first test data with its actual label "
      ]
    },
    {
      "cell_type": "code",
      "execution_count": 29,
      "metadata": {
        "colab": {
          "base_uri": "https://localhost:8080/"
        },
        "id": "a3Y3sV8sJyDU",
        "outputId": "d07a1215-6e49-49a0-9b9c-71f73845b8e6"
      },
      "outputs": [
        {
          "output_type": "execute_result",
          "data": {
            "text/plain": [
              "(0, 0)"
            ]
          },
          "metadata": {},
          "execution_count": 29
        }
      ],
      "source": [
        "prediction(XTest.iloc[0], decTree), yTest.iloc[0]"
      ]
    },
    {
      "cell_type": "markdown",
      "metadata": {
        "id": "M9D6bXl1JyDU"
      },
      "source": [
        "Computing Accuracy on Training Data"
      ]
    },
    {
      "cell_type": "code",
      "execution_count": 30,
      "metadata": {
        "colab": {
          "base_uri": "https://localhost:8080/"
        },
        "id": "vx059gXZJyDV",
        "outputId": "21d73eb2-dea5-464d-d80e-6845de253a71"
      },
      "outputs": [
        {
          "output_type": "execute_result",
          "data": {
            "text/plain": [
              "89.23910639239107"
            ]
          },
          "metadata": {},
          "execution_count": 30
        }
      ],
      "source": [
        "truePositive = 0\n",
        "for i in range(m):\n",
        "    yPred = prediction(XTrain.iloc[i], decTree)\n",
        "    if yPred == yTrain.iloc[i]:\n",
        "        truePositive += 1\n",
        "accuracy = (truePositive/m)*100\n",
        "accuracy"
      ]
    },
    {
      "cell_type": "markdown",
      "metadata": {
        "id": "V3SIBmHqJyDV"
      },
      "source": [
        "Computing Accuracy on Test Data"
      ]
    },
    {
      "cell_type": "code",
      "execution_count": 31,
      "metadata": {
        "id": "EbuzbUY4JyDV"
      },
      "outputs": [],
      "source": [
        "TestLength = XTest.shape[0]"
      ]
    },
    {
      "cell_type": "code",
      "execution_count": 33,
      "metadata": {
        "colab": {
          "base_uri": "https://localhost:8080/"
        },
        "id": "Fecn5ylVJyDV",
        "outputId": "00683014-e104-45af-bb1f-94429b5e233f"
      },
      "outputs": [
        {
          "output_type": "execute_result",
          "data": {
            "text/plain": [
              "88.25481088254811"
            ]
          },
          "metadata": {},
          "execution_count": 33
        }
      ],
      "source": [
        "truePositive = 0\n",
        "for i in range(TestLength):\n",
        "    yPred = prediction(XTest.iloc[i], decTree)\n",
        "    if yPred == yTest.iloc[i]:\n",
        "        truePositive += 1\n",
        "accuracy = (truePositive/TestLength)*100\n",
        "accuracy"
      ]
    },
    {
      "cell_type": "markdown",
      "metadata": {
        "id": "8-eu2vzMJyDW"
      },
      "source": [
        "Accuracy: 88.25%"
      ]
    },
    {
      "cell_type": "markdown",
      "metadata": {
        "id": "RPJ_e-EsJyDW"
      },
      "source": [
        "--------------------------------------------------------------------------------------------------------------"
      ]
    },
    {
      "cell_type": "markdown",
      "metadata": {
        "id": "mIo7zmmcJyDW"
      },
      "source": [
        "## Decision Tree based on the concept of gain ratio (= gain(x)/split_info(x)) where gain(x)==mutual info(x)"
      ]
    },
    {
      "cell_type": "code",
      "execution_count": 34,
      "metadata": {
        "colab": {
          "base_uri": "https://localhost:8080/"
        },
        "id": "ykS5Lu0aJyDW",
        "outputId": "0dc04db2-3e05-429e-d83b-81c716ffb0cf"
      },
      "outputs": [
        {
          "output_type": "execute_result",
          "data": {
            "text/plain": [
              "36168"
            ]
          },
          "metadata": {},
          "execution_count": 34
        }
      ],
      "source": [
        "len(XTrain)"
      ]
    },
    {
      "cell_type": "code",
      "execution_count": 35,
      "metadata": {
        "id": "KYQ6WH8iJyDX"
      },
      "outputs": [],
      "source": [
        "def split_info(XTrain, Xfeature):\n",
        "    discreteVal = np.unique(XTrain[Xfeature])\n",
        "    totalLen = len(XTrain)\n",
        "    len_ = len(discreteVal)\n",
        "    #print(len_)\n",
        "    if len_ == 2:\n",
        "        freqLeft = len(XTrain[XTrain[Xfeature]==discreteVal[0]][Xfeature])\n",
        "        freqRight = len(XTrain[XTrain[Xfeature]==discreteVal[0]][Xfeature])\n",
        "    elif len_>2:\n",
        "        med = np.median(XTrain[Xfeature])\n",
        "        #print(med)\n",
        "        freqLeft = len(XTrain[XTrain[Xfeature]<=med][Xfeature])\n",
        "        freqRight = len(XTrain[XTrain[Xfeature]>med][Xfeature])\n",
        "        #print(freqLeft, freqRight)\n",
        "    probLeft = freqLeft/totalLen\n",
        "    probRight = freqRight/totalLen\n",
        "    #print(Xfeature, probLeft, probRight)\n",
        "    #print()\n",
        "    if probLeft == 0 and probRight == 0:\n",
        "        return 0\n",
        "    elif probLeft == 0:\n",
        "        return -probRight*np.log(probRight)\n",
        "    elif probRight == 0:\n",
        "        return -probLeft*np.log(probLeft)\n",
        "    else:\n",
        "        splitInfo = - probLeft*np.log(probLeft) - probRight*np.log(probRight)\n",
        "        return splitInfo    "
      ]
    },
    {
      "cell_type": "code",
      "execution_count": 36,
      "metadata": {
        "colab": {
          "base_uri": "https://localhost:8080/"
        },
        "id": "-eXeh1WeJyDX",
        "outputId": "d9beb038-139e-4014-b23f-5a61a8dbf615"
      },
      "outputs": [
        {
          "output_type": "execute_result",
          "data": {
            "text/plain": [
              "0.4735982624198676"
            ]
          },
          "metadata": {},
          "execution_count": 36
        }
      ],
      "source": [
        "split_info(XTrain, 'pdays')"
      ]
    },
    {
      "cell_type": "code",
      "execution_count": 37,
      "metadata": {
        "id": "YX9yGbn8JyDY"
      },
      "outputs": [],
      "source": [
        "def getFeatureUpdated(featureList, X, y):\n",
        "    max_ = 0\n",
        "    featureName = ''\n",
        "    for feature in featureList:\n",
        "        infoGain = mutualInfo(X, feature, y)\n",
        "        splitInfo = split_info(X, feature)\n",
        "        gainRatio = infoGain/splitInfo\n",
        "        if gainRatio > max_:\n",
        "            max_ = gainRatio\n",
        "            featureName = feature\n",
        "    return featureName"
      ]
    },
    {
      "cell_type": "code",
      "execution_count": 38,
      "metadata": {
        "colab": {
          "base_uri": "https://localhost:8080/",
          "height": 35
        },
        "id": "wivOE4ETJyDY",
        "outputId": "9c06d04b-fe4e-474c-bbb7-fa4f7a442c19"
      },
      "outputs": [
        {
          "output_type": "execute_result",
          "data": {
            "text/plain": [
              "'no'"
            ],
            "application/vnd.google.colaboratory.intrinsic+json": {
              "type": "string"
            }
          },
          "metadata": {},
          "execution_count": 38
        }
      ],
      "source": [
        "getFeatureUpdated(newFeaturesName, XTrain, yTrain)"
      ]
    },
    {
      "cell_type": "code",
      "execution_count": 39,
      "metadata": {
        "id": "ZHWTYnhrJyDY"
      },
      "outputs": [],
      "source": [
        "def DecisionTreeC4_5(X, y, featureList):\n",
        "    if X.shape[0] < 1000:\n",
        "        numOfY = len(y)\n",
        "        numOfY0 = len(y[y==0])\n",
        "        numOfY1 = len(y[y==1])\n",
        "        probY0 = numOfY0/numOfY\n",
        "        probY1 = numOfY1/numOfY\n",
        "        label = 0 if probY0>probY1 else 1\n",
        "        anode = Node(label, 'Classification Node')\n",
        "        return anode\n",
        "    feature = getFeatureUpdated(featureList, X, y)\n",
        "    #print(feature)\n",
        "    discreteVal = np.unique(X[feature])\n",
        "    k = len(discreteVal)\n",
        "\n",
        "    if k == 2:\n",
        "        firstNodeX = X[X[feature]==discreteVal[0]].copy()\n",
        "        firstNodey = y[X[feature]==discreteVal[0]].copy()\n",
        "        secondNodeX = X[X[feature]==discreteVal[1]].copy()\n",
        "        secondNodey = y[X[feature]==discreteVal[1]].copy()\n",
        "        anode = Node(feature, 'Discrete Decision Node', discreteVal[0], discreteVal[1])\n",
        "    else:\n",
        "        med = np.median(X[feature])\n",
        "        firstNodeX = X[X[feature]<med].copy()\n",
        "        firstNodey = y[X[feature]<med].copy()\n",
        "        secondNodeX = X[X[feature]>=med].copy()\n",
        "        secondNodey = y[X[feature]>=med].copy()    \n",
        "        anode = Node(feature, 'Continuous Decision Node', 'lt'+str(med), 'gteq'+str(med))\n",
        "\n",
        "    featureList = featureList.drop(feature)\n",
        "    \n",
        "    firstNodeX.drop([feature], axis=1, inplace=True)\n",
        "    secondNodeX.drop([feature], axis=1, inplace=True)\n",
        "    anode.leftnode = DecisionTree(firstNodeX, firstNodey, featureList)\n",
        "    anode.rightnode = DecisionTree(secondNodeX, secondNodey, featureList)\n",
        "\n",
        "    return anode"
      ]
    },
    {
      "cell_type": "code",
      "execution_count": 40,
      "metadata": {
        "id": "qfGFeAPjJyDZ"
      },
      "outputs": [],
      "source": [
        "decTreeC4_5 = DecisionTreeC4_5(XTrain, yTrain, newFeaturesName)"
      ]
    },
    {
      "cell_type": "code",
      "execution_count": 41,
      "metadata": {
        "colab": {
          "base_uri": "https://localhost:8080/"
        },
        "id": "VWTmYh4CJyDZ",
        "outputId": "da3ddcec-513a-49c1-d836-8354c9395d2c"
      },
      "outputs": [
        {
          "output_type": "execute_result",
          "data": {
            "text/plain": [
              "89.23910639239107"
            ]
          },
          "metadata": {},
          "execution_count": 41
        }
      ],
      "source": [
        "truePositive = 0\n",
        "for i in range(m):\n",
        "    yPred = prediction(XTrain.iloc[i], decTreeC4_5)\n",
        "    if yPred == yTrain.iloc[i]:\n",
        "        truePositive += 1\n",
        "accuracy = (truePositive/m)*100\n",
        "accuracy"
      ]
    },
    {
      "cell_type": "markdown",
      "metadata": {
        "id": "pyIrVtA7JyDZ"
      },
      "source": [
        "Accuracy: 89.239%"
      ]
    },
    {
      "cell_type": "markdown",
      "metadata": {
        "id": "sk3SDYDmJyDa"
      },
      "source": [
        "So theirs an improvement in the accuracy from 88.25% to 89.239%, using the concept of gain ratio"
      ]
    },
    {
      "cell_type": "markdown",
      "metadata": {
        "id": "WNMvqwGsJyDa"
      },
      "source": [
        "--------------------------------------------------------------------------------------------------------------"
      ]
    },
    {
      "cell_type": "markdown",
      "metadata": {
        "id": "n88eooXvJyDa"
      },
      "source": [
        "\n",
        "### Decision Tree Post Pruning \n",
        "\n",
        "As Training and Test accuracy is almost same, we can say the model is not overfit.\n",
        "\n",
        "But if so then, One of the ways to reduce overfitting in decision trees is to grow the tree fully and then use post-pruning based on a validation set. In post-pruning, we greedily prune the nodes of the tree (and sub-tree below them) by iteratively picking a node to prune so that resultant tree gives maximum increase in accuracy on the validation set. In other words, among all the nodes in the tree, we prune the node such that pruning it (and sub-tree below it) results in maximum increase in accuracy over the validation set. This is repeated until any further pruning leads to decrease in accuracy over the validation set. "
      ]
    },
    {
      "cell_type": "markdown",
      "metadata": {
        "id": "I0lG1P7yJyDb"
      },
      "source": [
        "## Random Forests:\n",
        "\n",
        "\n",
        "Random Forests are extensions of decision trees, where we grow multiple decision trees in parallel on bootstrapped samples constructed from the original training data. A number of libraries are available for learning Random Forests over a given training data. In this particular question I used the scikit-learn library of Python to grow a Random Forest.\n",
        "\n",
        "Experimented with the following parameter values (in the given range): \n",
        "\n",
        "(a) n estimators (50 to 450 in range of 100). \n",
        "\n",
        "(b) max f eatures (0.1 to 1.0 in range of 0.2) \n",
        "\n",
        "(c) min samples split (2 to 10 in range of\n",
        "\n",
        "\n",
        "Used the out-of-bag accuracy to tune to the optimal values for these parameters. We should perform\n",
        "a grid search over the space of parameters. Report training, out-of-bag, validation and test set accuracies for the optimal set of parameters obtained. How do your numbers, i.e., train, validation and test set accuracies compare\n",
        "with those you obtained above?\n",
        "\n",
        "One must note that if you encode categorical attributes to integers, scikit will assume they are ordinal.\n",
        "For example, if (Male, Female, Others) is mapped to (0, 1, 2) scikit will treat them as integers with 1\n",
        "<2 <3. So we may need to encode in a way this ordering can be avoided. Scikit uses two split for\n",
        "handling categorical"
      ]
    },
    {
      "cell_type": "code",
      "execution_count": 42,
      "metadata": {
        "id": "MpFOiAG1JyDb"
      },
      "outputs": [],
      "source": [
        "from sklearn.ensemble import RandomForestClassifier"
      ]
    },
    {
      "cell_type": "code",
      "execution_count": 43,
      "metadata": {
        "colab": {
          "base_uri": "https://localhost:8080/"
        },
        "id": "X8ucyWa-JyDc",
        "outputId": "4235ebfd-9f91-4b6c-d2c3-bab7b927118a"
      },
      "outputs": [
        {
          "output_type": "execute_result",
          "data": {
            "text/plain": [
              "RandomForestClassifier(criterion='entropy', min_samples_split=50,\n",
              "                       n_estimators=25)"
            ]
          },
          "metadata": {},
          "execution_count": 43
        }
      ],
      "source": [
        "clf25 = RandomForestClassifier(n_estimators=25, criterion=\"entropy\", min_samples_split=50)\n",
        "clf25.fit(XTrain, yTrain)"
      ]
    },
    {
      "cell_type": "code",
      "execution_count": 44,
      "metadata": {
        "id": "tEUDWwzLJyDd"
      },
      "outputs": [],
      "source": [
        "XTest = XTest[newFeaturesName]"
      ]
    },
    {
      "cell_type": "code",
      "execution_count": 45,
      "metadata": {
        "colab": {
          "base_uri": "https://localhost:8080/"
        },
        "id": "93Oh3ASdJyDd",
        "outputId": "072423e2-35f8-48f2-d028-2713fc5fc802"
      },
      "outputs": [
        {
          "output_type": "execute_result",
          "data": {
            "text/plain": [
              "array([0, 0, 0, ..., 0, 0, 0])"
            ]
          },
          "metadata": {},
          "execution_count": 45
        }
      ],
      "source": [
        "clf25YPred = clf25.predict(XTest)\n",
        "clf25YPred"
      ]
    },
    {
      "cell_type": "code",
      "execution_count": 46,
      "metadata": {
        "id": "wp6zHue2JyDe"
      },
      "outputs": [],
      "source": [
        "def calcAccuracy(clfpred, realy, len_):\n",
        "    truePositive = 0\n",
        "    for i in range(len_):\n",
        "        if clfpred[i] == realy.iloc[i]:\n",
        "            truePositive += 1\n",
        "    accuracy = (truePositive/len_)*100\n",
        "    return accuracy"
      ]
    },
    {
      "cell_type": "code",
      "execution_count": 47,
      "metadata": {
        "colab": {
          "base_uri": "https://localhost:8080/"
        },
        "id": "xIBrmiRhJyDe",
        "outputId": "12af785d-696d-4fd4-96f7-ed43152f4be6"
      },
      "outputs": [
        {
          "output_type": "execute_result",
          "data": {
            "text/plain": [
              "89.8252598982526"
            ]
          },
          "metadata": {},
          "execution_count": 47
        }
      ],
      "source": [
        "calcAccuracy(clf25YPred, yTest, TestLength)"
      ]
    },
    {
      "cell_type": "markdown",
      "metadata": {
        "id": "b88pdia2JyDe"
      },
      "source": [
        "Using Gini as a criterion"
      ]
    },
    {
      "cell_type": "code",
      "execution_count": 48,
      "metadata": {
        "colab": {
          "base_uri": "https://localhost:8080/"
        },
        "id": "2mHgvJmFJyDf",
        "outputId": "96b5a63b-1a85-4b60-b108-16c04e2d34e2"
      },
      "outputs": [
        {
          "output_type": "execute_result",
          "data": {
            "text/plain": [
              "RandomForestClassifier(min_samples_split=50, n_estimators=25)"
            ]
          },
          "metadata": {},
          "execution_count": 48
        }
      ],
      "source": [
        "clf25gini = RandomForestClassifier(n_estimators=25, criterion=\"gini\", min_samples_split=50)\n",
        "clf25gini.fit(XTrain, yTrain)"
      ]
    },
    {
      "cell_type": "code",
      "execution_count": 49,
      "metadata": {
        "colab": {
          "base_uri": "https://localhost:8080/"
        },
        "id": "kumhJVsRJyDf",
        "outputId": "ab989b19-6697-4354-e7fe-cd6ede2b04b2"
      },
      "outputs": [
        {
          "output_type": "execute_result",
          "data": {
            "text/plain": [
              "array([0, 0, 0, ..., 1, 0, 0])"
            ]
          },
          "metadata": {},
          "execution_count": 49
        }
      ],
      "source": [
        "clf25giniYPred = clf25gini.predict(XTest)\n",
        "clf25giniYPred"
      ]
    },
    {
      "cell_type": "code",
      "execution_count": 50,
      "metadata": {
        "colab": {
          "base_uri": "https://localhost:8080/"
        },
        "id": "RJwYFWX8JyDf",
        "outputId": "54ca5eae-4067-4879-a473-9253dea08f39"
      },
      "outputs": [
        {
          "output_type": "execute_result",
          "data": {
            "text/plain": [
              "90.02433090024331"
            ]
          },
          "metadata": {},
          "execution_count": 50
        }
      ],
      "source": [
        "calcAccuracy(clf25giniYPred, yTest, TestLength)"
      ]
    },
    {
      "cell_type": "markdown",
      "metadata": {
        "id": "YhXAook5JyDg"
      },
      "source": [
        "Comparitively giving us the similar result"
      ]
    },
    {
      "cell_type": "markdown",
      "metadata": {
        "id": "ioQv1ID5JyDg"
      },
      "source": [
        "So by using 'Random Forest' the accuracy improved from 88.25% to 90%"
      ]
    }
  ],
  "metadata": {
    "interpreter": {
      "hash": "916dbcbb3f70747c44a77c7bcd40155683ae19c65e1c03b4aa3499c5328201f1"
    },
    "kernelspec": {
      "display_name": "Python 3.8.10 64-bit",
      "language": "python",
      "name": "python3"
    },
    "language_info": {
      "codemirror_mode": {
        "name": "ipython",
        "version": 3
      },
      "file_extension": ".py",
      "mimetype": "text/x-python",
      "name": "python",
      "nbconvert_exporter": "python",
      "pygments_lexer": "ipython3",
      "version": "3.8.10"
    },
    "orig_nbformat": 4,
    "colab": {
      "name": "decisionTree.ipynb",
      "provenance": [],
      "include_colab_link": true
    }
  },
  "nbformat": 4,
  "nbformat_minor": 0
}