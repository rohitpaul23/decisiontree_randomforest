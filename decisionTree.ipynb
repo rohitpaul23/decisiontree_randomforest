{
 "cells": [
  {
   "cell_type": "markdown",
   "metadata": {},
   "source": [
    "DECISION TREE\n",
    "\n",
    "\n",
    "Problem:\n",
    "\n",
    "For this part of the assignment we will work on Bank Marketing dataset. We have been provided with a pre-defined set of test, train and validation of dataset to work with. In this dataset, the first row represents the labels of each column such that the last column represents whether the client subscribed (y/n) and following that, each row represents an example. \n",
    "We have to implement the decision tree algorithm for predicting whether client subscribed a term deposit"
   ]
  },
  {
   "cell_type": "markdown",
   "metadata": {},
   "source": [
    "https://archive.ics.uci.edu/ml/datasets/Bank+Marketing"
   ]
  },
  {
   "cell_type": "code",
   "execution_count": 1,
   "metadata": {},
   "outputs": [],
   "source": [
    "import numpy as np\n",
    "import pandas as pd"
   ]
  },
  {
   "cell_type": "code",
   "execution_count": 2,
   "metadata": {},
   "outputs": [
    {
     "data": {
      "text/html": [
       "<div>\n",
       "<style scoped>\n",
       "    .dataframe tbody tr th:only-of-type {\n",
       "        vertical-align: middle;\n",
       "    }\n",
       "\n",
       "    .dataframe tbody tr th {\n",
       "        vertical-align: top;\n",
       "    }\n",
       "\n",
       "    .dataframe thead th {\n",
       "        text-align: right;\n",
       "    }\n",
       "</style>\n",
       "<table border=\"1\" class=\"dataframe\">\n",
       "  <thead>\n",
       "    <tr style=\"text-align: right;\">\n",
       "      <th></th>\n",
       "      <th>age</th>\n",
       "      <th>job</th>\n",
       "      <th>marital</th>\n",
       "      <th>education</th>\n",
       "      <th>default</th>\n",
       "      <th>balance</th>\n",
       "      <th>housing</th>\n",
       "      <th>loan</th>\n",
       "      <th>contact</th>\n",
       "      <th>day</th>\n",
       "      <th>month</th>\n",
       "      <th>duration</th>\n",
       "      <th>campaign</th>\n",
       "      <th>pdays</th>\n",
       "      <th>previous</th>\n",
       "      <th>poutcome</th>\n",
       "      <th>y</th>\n",
       "    </tr>\n",
       "  </thead>\n",
       "  <tbody>\n",
       "    <tr>\n",
       "      <th>0</th>\n",
       "      <td>57</td>\n",
       "      <td>unemployed</td>\n",
       "      <td>married</td>\n",
       "      <td>secondary</td>\n",
       "      <td>no</td>\n",
       "      <td>890</td>\n",
       "      <td>no</td>\n",
       "      <td>no</td>\n",
       "      <td>cellular</td>\n",
       "      <td>5</td>\n",
       "      <td>feb</td>\n",
       "      <td>343</td>\n",
       "      <td>4</td>\n",
       "      <td>-1</td>\n",
       "      <td>0</td>\n",
       "      <td>unknown</td>\n",
       "      <td>no</td>\n",
       "    </tr>\n",
       "    <tr>\n",
       "      <th>1</th>\n",
       "      <td>56</td>\n",
       "      <td>technician</td>\n",
       "      <td>married</td>\n",
       "      <td>secondary</td>\n",
       "      <td>no</td>\n",
       "      <td>2558</td>\n",
       "      <td>no</td>\n",
       "      <td>no</td>\n",
       "      <td>unknown</td>\n",
       "      <td>19</td>\n",
       "      <td>jun</td>\n",
       "      <td>288</td>\n",
       "      <td>1</td>\n",
       "      <td>-1</td>\n",
       "      <td>0</td>\n",
       "      <td>unknown</td>\n",
       "      <td>no</td>\n",
       "    </tr>\n",
       "    <tr>\n",
       "      <th>2</th>\n",
       "      <td>50</td>\n",
       "      <td>technician</td>\n",
       "      <td>married</td>\n",
       "      <td>tertiary</td>\n",
       "      <td>no</td>\n",
       "      <td>267</td>\n",
       "      <td>yes</td>\n",
       "      <td>no</td>\n",
       "      <td>cellular</td>\n",
       "      <td>21</td>\n",
       "      <td>nov</td>\n",
       "      <td>30</td>\n",
       "      <td>1</td>\n",
       "      <td>-1</td>\n",
       "      <td>0</td>\n",
       "      <td>unknown</td>\n",
       "      <td>no</td>\n",
       "    </tr>\n",
       "    <tr>\n",
       "      <th>3</th>\n",
       "      <td>47</td>\n",
       "      <td>management</td>\n",
       "      <td>married</td>\n",
       "      <td>unknown</td>\n",
       "      <td>no</td>\n",
       "      <td>4567</td>\n",
       "      <td>no</td>\n",
       "      <td>no</td>\n",
       "      <td>telephone</td>\n",
       "      <td>31</td>\n",
       "      <td>jul</td>\n",
       "      <td>921</td>\n",
       "      <td>4</td>\n",
       "      <td>-1</td>\n",
       "      <td>0</td>\n",
       "      <td>unknown</td>\n",
       "      <td>no</td>\n",
       "    </tr>\n",
       "    <tr>\n",
       "      <th>4</th>\n",
       "      <td>49</td>\n",
       "      <td>management</td>\n",
       "      <td>married</td>\n",
       "      <td>tertiary</td>\n",
       "      <td>no</td>\n",
       "      <td>5887</td>\n",
       "      <td>no</td>\n",
       "      <td>no</td>\n",
       "      <td>cellular</td>\n",
       "      <td>2</td>\n",
       "      <td>jun</td>\n",
       "      <td>181</td>\n",
       "      <td>3</td>\n",
       "      <td>293</td>\n",
       "      <td>2</td>\n",
       "      <td>failure</td>\n",
       "      <td>yes</td>\n",
       "    </tr>\n",
       "    <tr>\n",
       "      <th>...</th>\n",
       "      <td>...</td>\n",
       "      <td>...</td>\n",
       "      <td>...</td>\n",
       "      <td>...</td>\n",
       "      <td>...</td>\n",
       "      <td>...</td>\n",
       "      <td>...</td>\n",
       "      <td>...</td>\n",
       "      <td>...</td>\n",
       "      <td>...</td>\n",
       "      <td>...</td>\n",
       "      <td>...</td>\n",
       "      <td>...</td>\n",
       "      <td>...</td>\n",
       "      <td>...</td>\n",
       "      <td>...</td>\n",
       "      <td>...</td>\n",
       "    </tr>\n",
       "    <tr>\n",
       "      <th>36163</th>\n",
       "      <td>37</td>\n",
       "      <td>blue-collar</td>\n",
       "      <td>married</td>\n",
       "      <td>secondary</td>\n",
       "      <td>no</td>\n",
       "      <td>128</td>\n",
       "      <td>yes</td>\n",
       "      <td>no</td>\n",
       "      <td>telephone</td>\n",
       "      <td>8</td>\n",
       "      <td>jul</td>\n",
       "      <td>379</td>\n",
       "      <td>3</td>\n",
       "      <td>-1</td>\n",
       "      <td>0</td>\n",
       "      <td>unknown</td>\n",
       "      <td>no</td>\n",
       "    </tr>\n",
       "    <tr>\n",
       "      <th>36164</th>\n",
       "      <td>43</td>\n",
       "      <td>technician</td>\n",
       "      <td>single</td>\n",
       "      <td>secondary</td>\n",
       "      <td>no</td>\n",
       "      <td>593</td>\n",
       "      <td>yes</td>\n",
       "      <td>no</td>\n",
       "      <td>unknown</td>\n",
       "      <td>5</td>\n",
       "      <td>may</td>\n",
       "      <td>55</td>\n",
       "      <td>1</td>\n",
       "      <td>-1</td>\n",
       "      <td>0</td>\n",
       "      <td>unknown</td>\n",
       "      <td>no</td>\n",
       "    </tr>\n",
       "    <tr>\n",
       "      <th>36165</th>\n",
       "      <td>32</td>\n",
       "      <td>technician</td>\n",
       "      <td>single</td>\n",
       "      <td>secondary</td>\n",
       "      <td>no</td>\n",
       "      <td>145</td>\n",
       "      <td>no</td>\n",
       "      <td>no</td>\n",
       "      <td>cellular</td>\n",
       "      <td>6</td>\n",
       "      <td>aug</td>\n",
       "      <td>135</td>\n",
       "      <td>2</td>\n",
       "      <td>-1</td>\n",
       "      <td>0</td>\n",
       "      <td>unknown</td>\n",
       "      <td>no</td>\n",
       "    </tr>\n",
       "    <tr>\n",
       "      <th>36166</th>\n",
       "      <td>35</td>\n",
       "      <td>technician</td>\n",
       "      <td>married</td>\n",
       "      <td>secondary</td>\n",
       "      <td>no</td>\n",
       "      <td>-215</td>\n",
       "      <td>no</td>\n",
       "      <td>yes</td>\n",
       "      <td>cellular</td>\n",
       "      <td>31</td>\n",
       "      <td>jul</td>\n",
       "      <td>57</td>\n",
       "      <td>34</td>\n",
       "      <td>-1</td>\n",
       "      <td>0</td>\n",
       "      <td>unknown</td>\n",
       "      <td>no</td>\n",
       "    </tr>\n",
       "    <tr>\n",
       "      <th>36167</th>\n",
       "      <td>69</td>\n",
       "      <td>services</td>\n",
       "      <td>married</td>\n",
       "      <td>unknown</td>\n",
       "      <td>no</td>\n",
       "      <td>23592</td>\n",
       "      <td>no</td>\n",
       "      <td>no</td>\n",
       "      <td>cellular</td>\n",
       "      <td>3</td>\n",
       "      <td>jul</td>\n",
       "      <td>837</td>\n",
       "      <td>3</td>\n",
       "      <td>-1</td>\n",
       "      <td>0</td>\n",
       "      <td>unknown</td>\n",
       "      <td>no</td>\n",
       "    </tr>\n",
       "  </tbody>\n",
       "</table>\n",
       "<p>36168 rows × 17 columns</p>\n",
       "</div>"
      ],
      "text/plain": [
       "       age          job  marital  education default  balance housing loan  \\\n",
       "0       57   unemployed  married  secondary      no      890      no   no   \n",
       "1       56   technician  married  secondary      no     2558      no   no   \n",
       "2       50   technician  married   tertiary      no      267     yes   no   \n",
       "3       47   management  married    unknown      no     4567      no   no   \n",
       "4       49   management  married   tertiary      no     5887      no   no   \n",
       "...    ...          ...      ...        ...     ...      ...     ...  ...   \n",
       "36163   37  blue-collar  married  secondary      no      128     yes   no   \n",
       "36164   43   technician   single  secondary      no      593     yes   no   \n",
       "36165   32   technician   single  secondary      no      145      no   no   \n",
       "36166   35   technician  married  secondary      no     -215      no  yes   \n",
       "36167   69     services  married    unknown      no    23592      no   no   \n",
       "\n",
       "         contact  day month  duration  campaign  pdays  previous poutcome    y  \n",
       "0       cellular    5   feb       343         4     -1         0  unknown   no  \n",
       "1        unknown   19   jun       288         1     -1         0  unknown   no  \n",
       "2       cellular   21   nov        30         1     -1         0  unknown   no  \n",
       "3      telephone   31   jul       921         4     -1         0  unknown   no  \n",
       "4       cellular    2   jun       181         3    293         2  failure  yes  \n",
       "...          ...  ...   ...       ...       ...    ...       ...      ...  ...  \n",
       "36163  telephone    8   jul       379         3     -1         0  unknown   no  \n",
       "36164    unknown    5   may        55         1     -1         0  unknown   no  \n",
       "36165   cellular    6   aug       135         2     -1         0  unknown   no  \n",
       "36166   cellular   31   jul        57        34     -1         0  unknown   no  \n",
       "36167   cellular    3   jul       837         3     -1         0  unknown   no  \n",
       "\n",
       "[36168 rows x 17 columns]"
      ]
     },
     "execution_count": 2,
     "metadata": {},
     "output_type": "execute_result"
    }
   ],
   "source": [
    "bankTrainData = pd.read_csv('./data/bank_dataset/bank_train.csv', header=0, delimiter=';')\n",
    "bankTestData = pd.read_csv('./data/bank_dataset/bank_test.csv', header=0, delimiter=';')\n",
    "bankTrainData"
   ]
  },
  {
   "cell_type": "code",
   "execution_count": null,
   "metadata": {},
   "outputs": [],
   "source": []
  },
  {
   "cell_type": "code",
   "execution_count": 3,
   "metadata": {},
   "outputs": [
    {
     "data": {
      "text/plain": [
       "(36168, 17, 4521)"
      ]
     },
     "execution_count": 3,
     "metadata": {},
     "output_type": "execute_result"
    }
   ],
   "source": [
    "m = bankTrainData.shape[0]\n",
    "n = bankTrainData.shape[1]\n",
    "testRow = bankTestData.shape[0]\n",
    "m, n, testRow"
   ]
  },
  {
   "cell_type": "code",
   "execution_count": 4,
   "metadata": {},
   "outputs": [
    {
     "data": {
      "text/plain": [
       "(36168, 16)"
      ]
     },
     "execution_count": 4,
     "metadata": {},
     "output_type": "execute_result"
    }
   ],
   "source": [
    "XTrain = bankTrainData.iloc[:,:-1]\n",
    "yTrain = bankTrainData.iloc[:,-1]\n",
    "XTest = bankTestData.iloc[:,:-1]\n",
    "yTest = bankTestData.iloc[:,-1]\n",
    "XTrain.shape"
   ]
  },
  {
   "cell_type": "markdown",
   "metadata": {},
   "source": [
    "Decision Tree Construction \n",
    "\n",
    "\n",
    "Construct a decision tree using the given data to predict which clients subscribed a term deposit. You should use mutual information as the criteria for selecting the attribute to split on. At each node, you should select the attribute which results in maximum decrease in the entropy of the class variable (i.e. has the highest mutual information with respect to the class variable). \n",
    "\n",
    "This problem has some attributes as numerical and some as categorical. For handling numerical attributes, you should use the following procedure. At any given internal node of the tree, a numerical attribute is considered for a two way split by calculating the median attribute value from the data instances coming to that node, and then computing the information gain if the data was split based on whether the numerical value of the attribute is greater than the median or not. \n",
    "\n",
    "For example, if we have have 10 instances coming to a node, with values of an attribute being\n",
    "1(0,0,0,1,1,2,2,2,3,4) in the 10 instances, then we will split on value 1 of the attribute (median). At\n",
    "any step, choose the attribute which results in highest mutual information by splitting on its median\n",
    "value as described above. For categorical attributes, you can use the following two strategies \n",
    "(a) We can do a multi-way split by creating one decision tree branch for each possible value of the attribute.\n",
    "(b) We can do a two way split by first converting the attribute to a one-hot encoding, and then,\n",
    "treating each one-hot value as a separate Boolean valued attribute. \n",
    ]
  },
  {
   "cell_type": "code",
   "execution_count": 5,
   "metadata": {},
   "outputs": [
    {
     "data": {
      "text/plain": [
       "Index(['age', 'job', 'marital', 'education', 'default', 'balance', 'housing',\n",
       "       'loan', 'contact', 'day', 'month', 'duration', 'campaign', 'pdays',\n",
       "       'previous', 'poutcome'],\n",
       "      dtype='object')"
      ]
     },
     "execution_count": 5,
     "metadata": {},
     "output_type": "execute_result"
    }
   ],
   "source": [
    "featuresName = XTrain.keys()\n",
    "featuresName"
   ]
  },
  {
   "cell_type": "code",
   "execution_count": 6,
   "metadata": {},
   "outputs": [
    {
     "name": "stdout",
     "output_type": "stream",
     "text": [
      "<class 'pandas.core.frame.DataFrame'>\n",
      "RangeIndex: 36168 entries, 0 to 36167\n",
      "Data columns (total 16 columns):\n",
      " #   Column     Non-Null Count  Dtype \n",
      "---  ------     --------------  ----- \n",
      " 0   age        36168 non-null  int64 \n",
      " 1   job        36168 non-null  object\n",
      " 2   marital    36168 non-null  object\n",
      " 3   education  36168 non-null  object\n",
      " 4   default    36168 non-null  object\n",
      " 5   balance    36168 non-null  int64 \n",
      " 6   housing    36168 non-null  object\n",
      " 7   loan       36168 non-null  object\n",
      " 8   contact    36168 non-null  object\n",
      " 9   day        36168 non-null  int64 \n",
      " 10  month      36168 non-null  object\n",
      " 11  duration   36168 non-null  int64 \n",
      " 12  campaign   36168 non-null  int64 \n",
      " 13  pdays      36168 non-null  int64 \n",
      " 14  previous   36168 non-null  int64 \n",
      " 15  poutcome   36168 non-null  object\n",
      "dtypes: int64(7), object(9)\n",
      "memory usage: 4.4+ MB\n"
     ]
    }
   ],
   "source": [
    "XTrain.info()"
   ]
  },
  {
   "cell_type": "code",
   "execution_count": 7,
   "metadata": {},
   "outputs": [],
   "source": [
    "def oneHotCoding(feature):\n",
    "    m = len(feature)\n",
    "    discreteVal = feature.unique()\n",
    "    len_ = len(discreteVal)\n",
    "    multiArray = []\n",
    "    for i in range(m):\n",
    "        rowList = []\n",
    "        for j in range(len_):\n",
    "            if feature[i] == discreteVal[j]:\n",
    "                rowList.append(1)\n",
    "            else:\n",
    "                rowList.append(0)\n",
    "        multiArray.append(rowList)\n",
    "    #print(multiArray)\n",
    "    df = pd.DataFrame(multiArray, columns = discreteVal)\n",
    "    return df"
   ]
  },
  {
   "cell_type": "code",
   "execution_count": 8,
   "metadata": {},
   "outputs": [
    {
     "data": {
      "text/plain": [
       "Index(['age', 'balance', 'day', 'duration', 'campaign', 'pdays', 'previous',\n",
       "       'unemployed', 'technician', 'management', 'blue-collar', 'admin.',\n",
       "       'services', 'self-employed', 'retired', 'housemaid', 'student',\n",
       "       'entrepreneur', 'unknown', 'married', 'divorced', 'single', 'secondary',\n",
       "       'tertiary', 'unknown1', 'primary', 'no', 'yes', 'no1', 'yes1', 'no2',\n",
       "       'yes2', 'cellular', 'unknown2', 'telephone', 'feb', 'jun', 'nov', 'jul',\n",
       "       'may', 'aug', 'apr', 'dec', 'jan', 'oct', 'mar', 'sep', 'unknown3',\n",
       "       'failure', 'other', 'success'],\n",
       "      dtype='object')"
      ]
     },
     "execution_count": 8,
     "metadata": {},
     "output_type": "execute_result"
    }
   ],
   "source": [
    "for feature in featuresName:\n",
    "    if XTrain[feature].dtype != np.int64:\n",
    "        df = oneHotCoding(XTrain[feature])\n",
    "        commonName = set(XTrain.keys()).intersection(set(df.keys()))\n",
    "        if commonName:    \n",
    "            for name in commonName:\n",
    "                i = 1\n",
    "                while(True):\n",
    "                    newName = name + str(i)\n",
    "                    if newName in XTrain.keys():\n",
    "                        i+=1\n",
    "                    else:\n",
    "                        df.rename(columns = {name:newName}, inplace=True)\n",
    "                        break\n",
    "        XTrain = pd.concat([XTrain, df], axis=1)\n",
    "        XTrain.drop([feature], axis=1, inplace=True)\n",
    "newFeaturesName = XTrain.keys()\n",
    "newFeaturesName"
   ]
  },
  {
   "cell_type": "markdown",
   "metadata": {},
   "source": [
    "Column with same names being modified by appendind literal behind it, like 'unknown', 'yes', and 'no'"
   ]
  },
  {
   "cell_type": "code",
   "execution_count": 9,
   "metadata": {},
   "outputs": [
    {
     "data": {
      "text/html": [
       "<div>\n",
       "<style scoped>\n",
       "    .dataframe tbody tr th:only-of-type {\n",
       "        vertical-align: middle;\n",
       "    }\n",
       "\n",
       "    .dataframe tbody tr th {\n",
       "        vertical-align: top;\n",
       "    }\n",
       "\n",
       "    .dataframe thead th {\n",
       "        text-align: right;\n",
       "    }\n",
       "</style>\n",
       "<table border=\"1\" class=\"dataframe\">\n",
       "  <thead>\n",
       "    <tr style=\"text-align: right;\">\n",
       "      <th></th>\n",
       "      <th>age</th>\n",
       "      <th>balance</th>\n",
       "      <th>day</th>\n",
       "      <th>duration</th>\n",
       "      <th>campaign</th>\n",
       "      <th>pdays</th>\n",
       "      <th>previous</th>\n",
       "      <th>unemployed</th>\n",
       "      <th>technician</th>\n",
       "      <th>management</th>\n",
       "      <th>...</th>\n",
       "      <th>apr</th>\n",
       "      <th>dec</th>\n",
       "      <th>jan</th>\n",
       "      <th>oct</th>\n",
       "      <th>mar</th>\n",
       "      <th>sep</th>\n",
       "      <th>unknown3</th>\n",
       "      <th>failure</th>\n",
       "      <th>other</th>\n",
       "      <th>success</th>\n",
       "    </tr>\n",
       "  </thead>\n",
       "  <tbody>\n",
       "    <tr>\n",
       "      <th>0</th>\n",
       "      <td>57</td>\n",
       "      <td>890</td>\n",
       "      <td>5</td>\n",
       "      <td>343</td>\n",
       "      <td>4</td>\n",
       "      <td>-1</td>\n",
       "      <td>0</td>\n",
       "      <td>1</td>\n",
       "      <td>0</td>\n",
       "      <td>0</td>\n",
       "      <td>...</td>\n",
       "      <td>0</td>\n",
       "      <td>0</td>\n",
       "      <td>0</td>\n",
       "      <td>0</td>\n",
       "      <td>0</td>\n",
       "      <td>0</td>\n",
       "      <td>1</td>\n",
       "      <td>0</td>\n",
       "      <td>0</td>\n",
       "      <td>0</td>\n",
       "    </tr>\n",
       "    <tr>\n",
       "      <th>1</th>\n",
       "      <td>56</td>\n",
       "      <td>2558</td>\n",
       "      <td>19</td>\n",
       "      <td>288</td>\n",
       "      <td>1</td>\n",
       "      <td>-1</td>\n",
       "      <td>0</td>\n",
       "      <td>0</td>\n",
       "      <td>1</td>\n",
       "      <td>0</td>\n",
       "      <td>...</td>\n",
       "      <td>0</td>\n",
       "      <td>0</td>\n",
       "      <td>0</td>\n",
       "      <td>0</td>\n",
       "      <td>0</td>\n",
       "      <td>0</td>\n",
       "      <td>1</td>\n",
       "      <td>0</td>\n",
       "      <td>0</td>\n",
       "      <td>0</td>\n",
       "    </tr>\n",
       "    <tr>\n",
       "      <th>2</th>\n",
       "      <td>50</td>\n",
       "      <td>267</td>\n",
       "      <td>21</td>\n",
       "      <td>30</td>\n",
       "      <td>1</td>\n",
       "      <td>-1</td>\n",
       "      <td>0</td>\n",
       "      <td>0</td>\n",
       "      <td>1</td>\n",
       "      <td>0</td>\n",
       "      <td>...</td>\n",
       "      <td>0</td>\n",
       "      <td>0</td>\n",
       "      <td>0</td>\n",
       "      <td>0</td>\n",
       "      <td>0</td>\n",
       "      <td>0</td>\n",
       "      <td>1</td>\n",
       "      <td>0</td>\n",
       "      <td>0</td>\n",
       "      <td>0</td>\n",
       "    </tr>\n",
       "    <tr>\n",
       "      <th>3</th>\n",
       "      <td>47</td>\n",
       "      <td>4567</td>\n",
       "      <td>31</td>\n",
       "      <td>921</td>\n",
       "      <td>4</td>\n",
       "      <td>-1</td>\n",
       "      <td>0</td>\n",
       "      <td>0</td>\n",
       "      <td>0</td>\n",
       "      <td>1</td>\n",
       "      <td>...</td>\n",
       "      <td>0</td>\n",
       "      <td>0</td>\n",
       "      <td>0</td>\n",
       "      <td>0</td>\n",
       "      <td>0</td>\n",
       "      <td>0</td>\n",
       "      <td>1</td>\n",
       "      <td>0</td>\n",
       "      <td>0</td>\n",
       "      <td>0</td>\n",
       "    </tr>\n",
       "    <tr>\n",
       "      <th>4</th>\n",
       "      <td>49</td>\n",
       "      <td>5887</td>\n",
       "      <td>2</td>\n",
       "      <td>181</td>\n",
       "      <td>3</td>\n",
       "      <td>293</td>\n",
       "      <td>2</td>\n",
       "      <td>0</td>\n",
       "      <td>0</td>\n",
       "      <td>1</td>\n",
       "      <td>...</td>\n",
       "      <td>0</td>\n",
       "      <td>0</td>\n",
       "      <td>0</td>\n",
       "      <td>0</td>\n",
       "      <td>0</td>\n",
       "      <td>0</td>\n",
       "      <td>0</td>\n",
       "      <td>1</td>\n",
       "      <td>0</td>\n",
       "      <td>0</td>\n",
       "    </tr>\n",
       "    <tr>\n",
       "      <th>...</th>\n",
       "      <td>...</td>\n",
       "      <td>...</td>\n",
       "      <td>...</td>\n",
       "      <td>...</td>\n",
       "      <td>...</td>\n",
       "      <td>...</td>\n",
       "      <td>...</td>\n",
       "      <td>...</td>\n",
       "      <td>...</td>\n",
       "      <td>...</td>\n",
       "      <td>...</td>\n",
       "      <td>...</td>\n",
       "      <td>...</td>\n",
       "      <td>...</td>\n",
       "      <td>...</td>\n",
       "      <td>...</td>\n",
       "      <td>...</td>\n",
       "      <td>...</td>\n",
       "      <td>...</td>\n",
       "      <td>...</td>\n",
       "      <td>...</td>\n",
       "    </tr>\n",
       "    <tr>\n",
       "      <th>36163</th>\n",
       "      <td>37</td>\n",
       "      <td>128</td>\n",
       "      <td>8</td>\n",
       "      <td>379</td>\n",
       "      <td>3</td>\n",
       "      <td>-1</td>\n",
       "      <td>0</td>\n",
       "      <td>0</td>\n",
       "      <td>0</td>\n",
       "      <td>0</td>\n",
       "      <td>...</td>\n",
       "      <td>0</td>\n",
       "      <td>0</td>\n",
       "      <td>0</td>\n",
       "      <td>0</td>\n",
       "      <td>0</td>\n",
       "      <td>0</td>\n",
       "      <td>1</td>\n",
       "      <td>0</td>\n",
       "      <td>0</td>\n",
       "      <td>0</td>\n",
       "    </tr>\n",
       "    <tr>\n",
       "      <th>36164</th>\n",
       "      <td>43</td>\n",
       "      <td>593</td>\n",
       "      <td>5</td>\n",
       "      <td>55</td>\n",
       "      <td>1</td>\n",
       "      <td>-1</td>\n",
       "      <td>0</td>\n",
       "      <td>0</td>\n",
       "      <td>1</td>\n",
       "      <td>0</td>\n",
       "      <td>...</td>\n",
       "      <td>0</td>\n",
       "      <td>0</td>\n",
       "      <td>0</td>\n",
       "      <td>0</td>\n",
       "      <td>0</td>\n",
       "      <td>0</td>\n",
       "      <td>1</td>\n",
       "      <td>0</td>\n",
       "      <td>0</td>\n",
       "      <td>0</td>\n",
       "    </tr>\n",
       "    <tr>\n",
       "      <th>36165</th>\n",
       "      <td>32</td>\n",
       "      <td>145</td>\n",
       "      <td>6</td>\n",
       "      <td>135</td>\n",
       "      <td>2</td>\n",
       "      <td>-1</td>\n",
       "      <td>0</td>\n",
       "      <td>0</td>\n",
       "      <td>1</td>\n",
       "      <td>0</td>\n",
       "      <td>...</td>\n",
       "      <td>0</td>\n",
       "      <td>0</td>\n",
       "      <td>0</td>\n",
       "      <td>0</td>\n",
       "      <td>0</td>\n",
       "      <td>0</td>\n",
       "      <td>1</td>\n",
       "      <td>0</td>\n",
       "      <td>0</td>\n",
       "      <td>0</td>\n",
       "    </tr>\n",
       "    <tr>\n",
       "      <th>36166</th>\n",
       "      <td>35</td>\n",
       "      <td>-215</td>\n",
       "      <td>31</td>\n",
       "      <td>57</td>\n",
       "      <td>34</td>\n",
       "      <td>-1</td>\n",
       "      <td>0</td>\n",
       "      <td>0</td>\n",
       "      <td>1</td>\n",
       "      <td>0</td>\n",
       "      <td>...</td>\n",
       "      <td>0</td>\n",
       "      <td>0</td>\n",
       "      <td>0</td>\n",
       "      <td>0</td>\n",
       "      <td>0</td>\n",
       "      <td>0</td>\n",
       "      <td>1</td>\n",
       "      <td>0</td>\n",
       "      <td>0</td>\n",
       "      <td>0</td>\n",
       "    </tr>\n",
       "    <tr>\n",
       "      <th>36167</th>\n",
       "      <td>69</td>\n",
       "      <td>23592</td>\n",
       "      <td>3</td>\n",
       "      <td>837</td>\n",
       "      <td>3</td>\n",
       "      <td>-1</td>\n",
       "      <td>0</td>\n",
       "      <td>0</td>\n",
       "      <td>0</td>\n",
       "      <td>0</td>\n",
       "      <td>...</td>\n",
       "      <td>0</td>\n",
       "      <td>0</td>\n",
       "      <td>0</td>\n",
       "      <td>0</td>\n",
       "      <td>0</td>\n",
       "      <td>0</td>\n",
       "      <td>1</td>\n",
       "      <td>0</td>\n",
       "      <td>0</td>\n",
       "      <td>0</td>\n",
       "    </tr>\n",
       "  </tbody>\n",
       "</table>\n",
       "<p>36168 rows × 51 columns</p>\n",
       "</div>"
      ],
      "text/plain": [
       "       age  balance  day  duration  campaign  pdays  previous  unemployed  \\\n",
       "0       57      890    5       343         4     -1         0           1   \n",
       "1       56     2558   19       288         1     -1         0           0   \n",
       "2       50      267   21        30         1     -1         0           0   \n",
       "3       47     4567   31       921         4     -1         0           0   \n",
       "4       49     5887    2       181         3    293         2           0   \n",
       "...    ...      ...  ...       ...       ...    ...       ...         ...   \n",
       "36163   37      128    8       379         3     -1         0           0   \n",
       "36164   43      593    5        55         1     -1         0           0   \n",
       "36165   32      145    6       135         2     -1         0           0   \n",
       "36166   35     -215   31        57        34     -1         0           0   \n",
       "36167   69    23592    3       837         3     -1         0           0   \n",
       "\n",
       "       technician  management  ...  apr  dec  jan  oct  mar  sep  unknown3  \\\n",
       "0               0           0  ...    0    0    0    0    0    0         1   \n",
       "1               1           0  ...    0    0    0    0    0    0         1   \n",
       "2               1           0  ...    0    0    0    0    0    0         1   \n",
       "3               0           1  ...    0    0    0    0    0    0         1   \n",
       "4               0           1  ...    0    0    0    0    0    0         0   \n",
       "...           ...         ...  ...  ...  ...  ...  ...  ...  ...       ...   \n",
       "36163           0           0  ...    0    0    0    0    0    0         1   \n",
       "36164           1           0  ...    0    0    0    0    0    0         1   \n",
       "36165           1           0  ...    0    0    0    0    0    0         1   \n",
       "36166           1           0  ...    0    0    0    0    0    0         1   \n",
       "36167           0           0  ...    0    0    0    0    0    0         1   \n",
       "\n",
       "       failure  other  success  \n",
       "0            0      0        0  \n",
       "1            0      0        0  \n",
       "2            0      0        0  \n",
       "3            0      0        0  \n",
       "4            1      0        0  \n",
       "...        ...    ...      ...  \n",
       "36163        0      0        0  \n",
       "36164        0      0        0  \n",
       "36165        0      0        0  \n",
       "36166        0      0        0  \n",
       "36167        0      0        0  \n",
       "\n",
       "[36168 rows x 51 columns]"
      ]
     },
     "execution_count": 9,
     "metadata": {},
     "output_type": "execute_result"
    }
   ],
   "source": [
    "XTrain"
   ]
  },
  {
   "cell_type": "code",
   "execution_count": 52,
   "metadata": {},
   "outputs": [
    {
     "data": {
      "text/plain": [
       "array([ -1,   1,   2,   3,   4,   5,   6,   7,   8,   9,  10,  12,  13,\n",
       "        14,  15,  17,  18,  19,  20,  21,  22,  24,  26,  27,  28,  29,\n",
       "        30,  31,  33,  34,  35,  36,  37,  38,  39,  40,  41,  42,  43,\n",
       "        44,  45,  46,  47,  48,  49,  50,  51,  52,  53,  54,  55,  56,\n",
       "        57,  58,  59,  60,  61,  62,  63,  64,  65,  66,  67,  68,  69,\n",
       "        70,  71,  72,  73,  74,  75,  76,  77,  78,  79,  80,  81,  82,\n",
       "        83,  84,  85,  86,  87,  88,  89,  90,  91,  92,  93,  94,  95,\n",
       "        96,  97,  98,  99, 100, 101, 102, 103, 104, 105, 106, 107, 108,\n",
       "       109, 110, 111, 112, 113, 114, 115, 116, 117, 118, 119, 120, 121,\n",
       "       122, 123, 124, 125, 126, 127, 128, 129, 130, 131, 132, 133, 134,\n",
       "       135, 136, 137, 138, 139, 140, 141, 142, 143, 144, 145, 146, 147,\n",
       "       148, 149, 150, 151, 152, 153, 154, 155, 156, 157, 158, 159, 160,\n",
       "       161, 162, 163, 164, 165, 166, 167, 168, 169, 170, 171, 172, 173,\n",
       "       174, 175, 176, 177, 178, 179, 180, 181, 182, 183, 184, 185, 186,\n",
       "       187, 188, 189, 190, 191, 192, 193, 194, 195, 196, 197, 198, 199,\n",
       "       200, 201, 202, 203, 204, 205, 206, 207, 208, 209, 210, 211, 212,\n",
       "       213, 214, 215, 216, 217, 218, 219, 220, 221, 222, 223, 224, 225,\n",
       "       226, 227, 228, 229, 230, 231, 232, 233, 234, 235, 236, 237, 238,\n",
       "       239, 240, 241, 242, 243, 244, 245, 246, 247, 248, 249, 250, 251,\n",
       "       252, 253, 254, 255, 256, 257, 258, 259, 260, 261, 262, 263, 264,\n",
       "       265, 266, 267, 268, 269, 270, 271, 272, 273, 274, 275, 276, 277,\n",
       "       278, 279, 280, 281, 282, 283, 284, 285, 286, 287, 288, 289, 290,\n",
       "       291, 292, 293, 294, 295, 296, 297, 298, 299, 300, 301, 302, 303,\n",
       "       304, 305, 306, 307, 308, 309, 310, 311, 312, 313, 314, 315, 316,\n",
       "       317, 318, 319, 320, 321, 322, 323, 324, 325, 326, 327, 328, 329,\n",
       "       330, 331, 332, 333, 334, 335, 336, 337, 338, 339, 340, 341, 342,\n",
       "       343, 344, 345, 346, 347, 348, 349, 350, 351, 352, 353, 354, 355,\n",
       "       356, 357, 358, 359, 360, 361, 362, 363, 364, 365, 366, 367, 368,\n",
       "       369, 370, 371, 372, 373, 374, 375, 376, 377, 378, 379, 381, 382,\n",
       "       383, 384, 385, 386, 387, 388, 389, 390, 391, 392, 393, 394, 395,\n",
       "       397, 398, 399, 401, 403, 405, 407, 409, 410, 411, 412, 413, 414,\n",
       "       415, 416, 417, 420, 421, 422, 424, 425, 426, 427, 428, 430, 431,\n",
       "       432, 433, 434, 435, 436, 439, 440, 442, 445, 446, 449, 450, 452,\n",
       "       455, 456, 457, 458, 459, 460, 461, 462, 463, 464, 465, 466, 467,\n",
       "       469, 470, 472, 474, 475, 477, 478, 479, 481, 484, 485, 486, 490,\n",
       "       491, 493, 495, 500, 503, 504, 508, 511, 514, 515, 520, 521, 524,\n",
       "       526, 528, 529, 530, 531, 535, 536, 541, 542, 543, 547, 551, 555,\n",
       "       557, 558, 561, 562, 579, 585, 586, 589, 592, 594, 616, 626, 633,\n",
       "       648, 651, 655, 656, 667, 670, 674, 680, 683, 687, 690, 701, 717,\n",
       "       728, 745, 749, 760, 769, 771, 772, 775, 776, 778, 779, 782, 784,\n",
       "       791, 792, 805, 808, 826, 838, 842, 854, 871])"
      ]
     },
     "execution_count": 52,
     "metadata": {},
     "output_type": "execute_result"
    }
   ],
   "source": [
    "np.unique(XTrain['pdays'])"
   ]
  },
  {
   "cell_type": "markdown",
   "metadata": {},
   "source": [
    "Converting y categorical value from ['no', 'yes'] to [0, 1]"
   ]
  },
  {
   "cell_type": "code",
   "execution_count": 10,
   "metadata": {},
   "outputs": [],
   "source": [
    "yTrain.replace([ele for ele in yTrain.unique()], [ele for ele in range(len(yTrain.unique()))], inplace= True)"
   ]
  },
  {
   "cell_type": "code",
   "execution_count": 11,
   "metadata": {},
   "outputs": [
    {
     "data": {
      "text/plain": [
       "0        0\n",
       "1        0\n",
       "2        0\n",
       "3        0\n",
       "4        1\n",
       "        ..\n",
       "36163    0\n",
       "36164    0\n",
       "36165    0\n",
       "36166    0\n",
       "36167    0\n",
       "Name: y, Length: 36168, dtype: int64"
      ]
     },
     "execution_count": 11,
     "metadata": {},
     "output_type": "execute_result"
    }
   ],
   "source": [
    "yTrain"
   ]
  },
  {
   "cell_type": "code",
   "execution_count": 12,
   "metadata": {},
   "outputs": [
    {
     "data": {
      "text/plain": [
       "-3.2188758248682006"
      ]
     },
     "execution_count": 12,
     "metadata": {},
     "output_type": "execute_result"
    }
   ],
   "source": [
    "np.log(0.04)"
   ]
  },
  {
   "cell_type": "code",
   "execution_count": 13,
   "metadata": {},
   "outputs": [],
   "source": [
    "def calculateEntropy(yLabel):\n",
    "    totalLen = len(yLabel)\n",
    "    label0 = yLabel[yLabel==0]\n",
    "    lenLabel0 = len(label0)\n",
    "    label1 = yLabel[yLabel==1]\n",
    "    lenLabel1 = len(label1)\n",
    "    \n",
    "    probLabel0 = lenLabel0/totalLen\n",
    "    probLabel1 = lenLabel1/totalLen\n",
    "    if probLabel0 == 0 and probLabel1 == 0:\n",
    "        return 0\n",
    "    elif probLabel0 == 0:\n",
    "        return -probLabel1*np.log(probLabel1)\n",
    "    elif probLabel1 == 0:\n",
    "        return -probLabel0*np.log(probLabel0)\n",
    "    else:\n",
    "        ent = -probLabel0*np.log(probLabel0) - probLabel1*np.log(probLabel1)\n",
    "        return ent\n",
    "    "
   ]
  },
  {
   "cell_type": "code",
   "execution_count": 14,
   "metadata": {},
   "outputs": [
    {
     "data": {
      "text/plain": [
       "0.35969285154524766"
      ]
     },
     "execution_count": 14,
     "metadata": {},
     "output_type": "execute_result"
    }
   ],
   "source": [
    "calculateEntropy(yTrain)"
   ]
  },
  {
   "cell_type": "code",
   "execution_count": 15,
   "metadata": {},
   "outputs": [],
   "source": [
    "def mutualInfo(X, featureName, y):\n",
    "    discreteVal = np.unique(X[featureName])\n",
    "    k = len(discreteVal)\n",
    "    \n",
    "    if k == 2:\n",
    "        indexX0 = list(X[X[featureName]==discreteVal[0]].index)\n",
    "        indexX1 = list(X[X[featureName]==discreteVal[1]].index)\n",
    "        ySeriesX0 = y[indexX0]\n",
    "        ySeriesX1 = y[indexX1]\n",
    "    else:\n",
    "        med = np.median(X[featureName])\n",
    "        indexX0 = list(X[X[featureName]>med].index)\n",
    "        indexX1 = list(X[X[featureName]<=med].index)\n",
    "        ySeriesX0 = y[indexX0]\n",
    "        ySeriesX1 = y[indexX1]\n",
    "    \n",
    "    totalLen = len(y)\n",
    "    label0 = y[y==0]\n",
    "    lenLabel0 = len(label0)\n",
    "    label1 = y[y==1]\n",
    "    lenLabel1 = len(label1)\n",
    "\n",
    "    probLabel0 = lenLabel0/totalLen\n",
    "    probLabel1 = lenLabel1/totalLen\n",
    "\n",
    "    if len(ySeriesX0) < 100 or len(ySeriesX0) < 100:\n",
    "        return -1\n",
    "    H_y = calculateEntropy(y)\n",
    "    H_yX0 = calculateEntropy(ySeriesX0)\n",
    "    H_yX1 = calculateEntropy(ySeriesX1)\n",
    "    mi = H_y - (probLabel0*H_yX0 + probLabel1*H_yX1)\n",
    "    return mi"
   ]
  },
  {
   "cell_type": "code",
   "execution_count": 16,
   "metadata": {},
   "outputs": [],
   "source": [
    "def getFeature(featureList, X, y):\n",
    "    max_ = 0\n",
    "    featureName = ''\n",
    "    for feature in featureList:\n",
    "        mi = mutualInfo(X, feature, y)\n",
    "        if mi > max_:\n",
    "            max_ = mi\n",
    "            featureName = feature\n",
    "    return featureName"
   ]
  },
  {
   "cell_type": "code",
   "execution_count": 17,
   "metadata": {},
   "outputs": [
    {
     "data": {
      "text/plain": [
       "'cellular'"
      ]
     },
     "execution_count": 17,
     "metadata": {},
     "output_type": "execute_result"
    }
   ],
   "source": [
    "getFeature(newFeaturesName, XTrain, yTrain)"
   ]
  },
  {
   "cell_type": "code",
   "execution_count": 18,
   "metadata": {},
   "outputs": [],
   "source": [
    "class Node:\n",
    "    def __init__(self, name=None, nodeType=None, left=None, right=None):\n",
    "        self.name = name\n",
    "        self.type = nodeType\n",
    "        self.leftName = left\n",
    "        self.leftnode = None\n",
    "        self.rightName = right\n",
    "        self.rightnode = None\n",
    "\n",
    "class Tree:\n",
    "    def __init__(self):\n",
    "        self.head = None"
   ]
  },
  {
   "cell_type": "code",
   "execution_count": 19,
   "metadata": {},
   "outputs": [],
   "source": [
    "atree = Tree()\n",
    "atree.head = Node('A', 0, 1)\n",
    "atree.head.leftnode = Node('B', 0, 1)\n",
    "atree.head.rightnode = Node('C', 0, 1)"
   ]
  },
  {
   "cell_type": "code",
   "execution_count": 20,
   "metadata": {},
   "outputs": [
    {
     "data": {
      "text/plain": [
       "Index(['balance', 'day', 'duration', 'campaign', 'pdays', 'previous',\n",
       "       'unemployed', 'technician', 'management', 'blue-collar', 'admin.',\n",
       "       'services', 'self-employed', 'retired', 'housemaid', 'student',\n",
       "       'entrepreneur', 'unknown', 'married', 'divorced', 'single', 'secondary',\n",
       "       'tertiary', 'unknown1', 'primary', 'no', 'yes', 'no1', 'yes1', 'no2',\n",
       "       'yes2', 'cellular', 'unknown2', 'telephone', 'feb', 'jun', 'nov', 'jul',\n",
       "       'may', 'aug', 'apr', 'dec', 'jan', 'oct', 'mar', 'sep', 'unknown3',\n",
       "       'failure', 'other', 'success'],\n",
       "      dtype='object')"
      ]
     },
     "execution_count": 20,
     "metadata": {},
     "output_type": "execute_result"
    }
   ],
   "source": [
    "acopy = newFeaturesName.copy()\n",
    "acopy = acopy.drop('age')\n",
    "acopy"
   ]
  },
  {
   "cell_type": "code",
   "execution_count": 21,
   "metadata": {},
   "outputs": [],
   "source": [
    "def DecisionTree(X, y, featureList):\n",
    "    if X.shape[0] < 1000:\n",
    "        numOfY = len(y)\n",
    "        numOfY0 = len(y[y==0])\n",
    "        numOfY1 = len(y[y==1])\n",
    "        probY0 = numOfY0/numOfY\n",
    "        probY1 = numOfY1/numOfY\n",
    "        label = 0 if probY0>probY1 else 1\n",
    "        anode = Node(label, 'Classification Node')\n",
    "        return anode\n",
    "    feature = getFeature(featureList, X, y)\n",
    "    #print(feature)\n",
    "    discreteVal = np.unique(X[feature])\n",
    "    k = len(discreteVal)\n",
    "\n",
    "    if k == 2:\n",
    "        firstNodeX = X[X[feature]==discreteVal[0]].copy()\n",
    "        firstNodey = y[X[feature]==discreteVal[0]].copy()\n",
    "        secondNodeX = X[X[feature]==discreteVal[1]].copy()\n",
    "        secondNodey = y[X[feature]==discreteVal[1]].copy()\n",
    "        anode = Node(feature, 'Discrete Decision Node', discreteVal[0], discreteVal[1])\n",
    "    else:\n",
    "        med = np.median(X[feature])\n",
    "        firstNodeX = X[X[feature]<med].copy()\n",
    "        firstNodey = y[X[feature]<med].copy()\n",
    "        secondNodeX = X[X[feature]>=med].copy()\n",
    "        secondNodey = y[X[feature]>=med].copy()    \n",
    "        anode = Node(feature, 'Continuous Decision Node', 'lt'+str(med), 'gteq'+str(med))\n",
    "\n",
    "    featureList = featureList.drop(feature)\n",
    "    \n",
    "    firstNodeX.drop([feature], axis=1, inplace=True)\n",
    "    secondNodeX.drop([feature], axis=1, inplace=True)\n",
    "    anode.leftnode = DecisionTree(firstNodeX, firstNodey, featureList)\n",
    "    anode.rightnode = DecisionTree(secondNodeX, secondNodey, featureList)\n",
    "\n",
    "    return anode"
   ]
  },
  {
   "cell_type": "code",
   "execution_count": 22,
   "metadata": {},
   "outputs": [],
   "source": [
    "decTree = DecisionTree(XTrain, yTrain, newFeaturesName)"
   ]
  },
  {
   "cell_type": "code",
   "execution_count": 23,
   "metadata": {},
   "outputs": [
    {
     "data": {
      "text/plain": [
       "Index(['age', 'balance', 'day', 'duration', 'campaign', 'pdays', 'previous',\n",
       "       'blue-collar', 'technician', 'self-employed', 'admin.', 'management',\n",
       "       'student', 'services', 'entrepreneur', 'housemaid', 'unknown',\n",
       "       'unemployed', 'retired', 'married', 'single', 'divorced', 'secondary',\n",
       "       'primary', 'tertiary', 'unknown1', 'no', 'yes', 'yes1', 'no1', 'yes2',\n",
       "       'no2', 'cellular', 'unknown2', 'telephone', 'apr', 'jun', 'jul', 'feb',\n",
       "       'aug', 'may', 'jan', 'nov', 'sep', 'dec', 'oct', 'mar', 'unknown3',\n",
       "       'other', 'success', 'failure'],\n",
       "      dtype='object')"
      ]
     },
     "execution_count": 23,
     "metadata": {},
     "output_type": "execute_result"
    }
   ],
   "source": [
    "for feature in featuresName:\n",
    "    if XTest[feature].dtype != np.int64:\n",
    "        df = oneHotCoding(XTest[feature])\n",
    "        commonName = set(XTest.keys()).intersection(set(df.keys()))\n",
    "        if commonName:    \n",
    "            for name in commonName:\n",
    "                i = 1\n",
    "                while(True):\n",
    "                    newName = name + str(i)\n",
    "                    if newName in XTest.keys():\n",
    "                        i+=1\n",
    "                    else:\n",
    "                        df.rename(columns = {name:newName}, inplace=True)\n",
    "                        break\n",
    "        XTest = pd.concat([XTest, df], axis=1)\n",
    "        XTest.drop([feature], axis=1, inplace=True)\n",
    "newTestFeaturesName = XTest.keys()\n",
    "newTestFeaturesName"
   ]
  },
  {
   "cell_type": "code",
   "execution_count": 24,
   "metadata": {},
   "outputs": [],
   "source": [
    "yTest.replace([ele for ele in yTest.unique()], [ele for ele in range(len(yTest.unique()))], inplace= True)"
   ]
  },
  {
   "cell_type": "code",
   "execution_count": 69,
   "metadata": {},
   "outputs": [],
   "source": [
    "def prediction(checkX, temp):\n",
    "    while(temp):\n",
    "        if temp.type == 'Classification Node':\n",
    "            return temp.name\n",
    "        elif temp.type == 'Discrete Decision Node':\n",
    "            if checkX[temp.name] == temp.leftName:\n",
    "                temp = temp.leftnode\n",
    "            else:\n",
    "                temp = temp.rightnode\n",
    "        else:\n",
    "            sep = temp.leftName[2:]\n",
    "            if checkX[temp.name] < float(sep):\n",
    "                temp = temp.leftnode\n",
    "            else:\n",
    "                temp = temp.rightnode\n",
    "    "
   ]
  },
  {
   "cell_type": "markdown",
   "metadata": {},
   "source": [
    "Prediction for first test data with its actual label "
   ]
  },
  {
   "cell_type": "code",
   "execution_count": 70,
   "metadata": {},
   "outputs": [
    {
     "data": {
      "text/plain": [
       "(0, 0)"
      ]
     },
     "execution_count": 70,
     "metadata": {},
     "output_type": "execute_result"
    }
   ],
   "source": [
    "prediction(XTest.iloc[0], decTree), yTest.iloc[0]"
   ]
  },
  {
   "cell_type": "markdown",
   "metadata": {},
   "source": [
    "Computing Accuracy on Training Data"
   ]
  },
  {
   "cell_type": "code",
   "execution_count": 71,
   "metadata": {},
   "outputs": [
    {
     "data": {
      "text/plain": [
       "89.23910639239107"
      ]
     },
     "execution_count": 71,
     "metadata": {},
     "output_type": "execute_result"
    }
   ],
   "source": [
    "truePositive = 0\n",
    "for i in range(m):\n",
    "    yPred = prediction(XTrain.iloc[i], decTree)\n",
    "    if yPred == yTrain.iloc[i]:\n",
    "        truePositive += 1\n",
    "accuracy = (truePositive/m)*100\n",
    "accuracy"
   ]
  },
  {
   "cell_type": "markdown",
   "metadata": {},
   "source": [
    "Computing Accuracy on Test Data"
   ]
  },
  {
   "cell_type": "code",
   "execution_count": 28,
   "metadata": {},
   "outputs": [],
   "source": [
    "TestLength = XTest.shape[0]"
   ]
  },
  {
   "cell_type": "code",
   "execution_count": 29,
   "metadata": {},
   "outputs": [
    {
     "data": {
      "text/plain": [
       "88.25481088254811"
      ]
     },
     "execution_count": 29,
     "metadata": {},
     "output_type": "execute_result"
    }
   ],
   "source": [
    "truePositive = 0\n",
    "for i in range(TestLength):\n",
    "    yPred = prediction(XTest.iloc[i])\n",
    "    if yPred == yTest.iloc[i]:\n",
    "        truePositive += 1\n",
    "accuracy = (truePositive/TestLength)*100\n",
    "accuracy"
   ]
  },
  {
   "cell_type": "markdown",
   "metadata": {},
   "source": [
    "Accuracy: 88.25%"
   ]
  },
  {
   "cell_type": "markdown",
   "metadata": {},
   "source": [
    "--------------------------------------------------------------------------------------------------------------"
   ]
  },
  {
   "cell_type": "markdown",
   "metadata": {},
   "source": [
    "Decision Tree based on the concept of gain ratio (= gain(x)/split_info(x)) where gain(x)==mutual info(x)"
   ]
  },
  {
   "cell_type": "code",
   "execution_count": 30,
   "metadata": {},
   "outputs": [
    {
     "data": {
      "text/plain": [
       "36168"
      ]
     },
     "execution_count": 30,
     "metadata": {},
     "output_type": "execute_result"
    }
   ],
   "source": [
    "len(XTrain)"
   ]
  },
  {
   "cell_type": "code",
   "execution_count": 63,
   "metadata": {},
   "outputs": [],
   "source": [
    "def split_info(XTrain, Xfeature):\n",
    "    discreteVal = np.unique(XTrain[Xfeature])\n",
    "    totalLen = len(XTrain)\n",
    "    len_ = len(discreteVal)\n",
    "    #print(len_)\n",
    "    if len_ == 2:\n",
    "        freqLeft = len(XTrain[XTrain[Xfeature]==discreteVal[0]][Xfeature])\n",
    "        freqRight = len(XTrain[XTrain[Xfeature]==discreteVal[0]][Xfeature])\n",
    "    elif len_>2:\n",
    "        med = np.median(XTrain[Xfeature])\n",
    "        #print(med)\n",
    "        freqLeft = len(XTrain[XTrain[Xfeature]<=med][Xfeature])\n",
    "        freqRight = len(XTrain[XTrain[Xfeature]>med][Xfeature])\n",
    "        #print(freqLeft, freqRight)\n",
    "    probLeft = freqLeft/totalLen\n",
    "    probRight = freqRight/totalLen\n",
    "    #print(Xfeature, probLeft, probRight)\n",
    "    #print()\n",
    "    if probLeft == 0 and probRight == 0:\n",
    "        return 0\n",
    "    elif probLeft == 0:\n",
    "        return -probRight*np.log(probRight)\n",
    "    elif probRight == 0:\n",
    "        return -probLeft*np.log(probLeft)\n",
    "    else:\n",
    "        splitInfo = - probLeft*np.log(probLeft) - probRight*np.log(probRight)\n",
    "        return splitInfo    "
   ]
  },
  {
   "cell_type": "code",
   "execution_count": 64,
   "metadata": {},
   "outputs": [
    {
     "data": {
      "text/plain": [
       "0.4735982624198676"
      ]
     },
     "execution_count": 64,
     "metadata": {},
     "output_type": "execute_result"
    }
   ],
   "source": [
    "split_info(XTrain, 'pdays')"
   ]
  },
  {
   "cell_type": "code",
   "execution_count": 65,
   "metadata": {},
   "outputs": [],
   "source": [
    "def getFeatureUpdated(featureList, X, y):\n",
    "    max_ = 0\n",
    "    featureName = ''\n",
    "    for feature in featureList:\n",
    "        infoGain = mutualInfo(X, feature, y)\n",
    "        splitInfo = split_info(X, feature)\n",
    "        gainRatio = infoGain/splitInfo\n",
    "        if gainRatio > max_:\n",
    "            max_ = gainRatio\n",
    "            featureName = feature\n",
    "    return featureName"
   ]
  },
  {
   "cell_type": "code",
   "execution_count": 66,
   "metadata": {},
   "outputs": [
    {
     "data": {
      "text/plain": [
       "'no'"
      ]
     },
     "execution_count": 66,
     "metadata": {},
     "output_type": "execute_result"
    }
   ],
   "source": [
    "getFeatureUpdated(newFeaturesName, XTrain, yTrain)"
   ]
  },
  {
   "cell_type": "code",
   "execution_count": 67,
   "metadata": {},
   "outputs": [],
   "source": [
    "def DecisionTreeC4_5(X, y, featureList):\n",
    "    if X.shape[0] < 1000:\n",
    "        numOfY = len(y)\n",
    "        numOfY0 = len(y[y==0])\n",
    "        numOfY1 = len(y[y==1])\n",
    "        probY0 = numOfY0/numOfY\n",
    "        probY1 = numOfY1/numOfY\n",
    "        label = 0 if probY0>probY1 else 1\n",
    "        anode = Node(label, 'Classification Node')\n",
    "        return anode\n",
    "    feature = getFeatureUpdated(featureList, X, y)\n",
    "    #print(feature)\n",
    "    discreteVal = np.unique(X[feature])\n",
    "    k = len(discreteVal)\n",
    "\n",
    "    if k == 2:\n",
    "        firstNodeX = X[X[feature]==discreteVal[0]].copy()\n",
    "        firstNodey = y[X[feature]==discreteVal[0]].copy()\n",
    "        secondNodeX = X[X[feature]==discreteVal[1]].copy()\n",
    "        secondNodey = y[X[feature]==discreteVal[1]].copy()\n",
    "        anode = Node(feature, 'Discrete Decision Node', discreteVal[0], discreteVal[1])\n",
    "    else:\n",
    "        med = np.median(X[feature])\n",
    "        firstNodeX = X[X[feature]<med].copy()\n",
    "        firstNodey = y[X[feature]<med].copy()\n",
    "        secondNodeX = X[X[feature]>=med].copy()\n",
    "        secondNodey = y[X[feature]>=med].copy()    \n",
    "        anode = Node(feature, 'Continuous Decision Node', 'lt'+str(med), 'gteq'+str(med))\n",
    "\n",
    "    featureList = featureList.drop(feature)\n",
    "    \n",
    "    firstNodeX.drop([feature], axis=1, inplace=True)\n",
    "    secondNodeX.drop([feature], axis=1, inplace=True)\n",
    "    anode.leftnode = DecisionTree(firstNodeX, firstNodey, featureList)\n",
    "    anode.rightnode = DecisionTree(secondNodeX, secondNodey, featureList)\n",
    "\n",
    "    return anode"
   ]
  },
  {
   "cell_type": "code",
   "execution_count": 68,
   "metadata": {},
   "outputs": [],
   "source": [
    "decTreeC4_5 = DecisionTreeC4_5(XTrain, yTrain, newFeaturesName)"
   ]
  },
  {
   "cell_type": "code",
   "execution_count": 72,
   "metadata": {},
   "outputs": [
    {
     "data": {
      "text/plain": [
       "89.23910639239107"
      ]
     },
     "execution_count": 72,
     "metadata": {},
     "output_type": "execute_result"
    }
   ],
   "source": [
    "truePositive = 0\n",
    "for i in range(m):\n",
    "    yPred = prediction(XTrain.iloc[i], decTreeC4_5)\n",
    "    if yPred == yTrain.iloc[i]:\n",
    "        truePositive += 1\n",
    "accuracy = (truePositive/m)*100\n",
    "accuracy"
   ]
  },
  {
   "cell_type": "markdown",
   "metadata": {},
   "source": [
    "Accuracy: 89.239%"
   ]
  },
  {
   "cell_type": "markdown",
   "metadata": {},
   "source": [
    "So theirs an improvement in the accuracy from 88.25% to 89.239%, using the concept of gain ratio"
   ]
  },
  {
   "cell_type": "markdown",
   "metadata": {},
   "source": [
    "--------------------------------------------------------------------------------------------------------------"
   ]
  },
  {
   "cell_type": "markdown",
   "metadata": {},
   "source": [
    "\n",
    "Decision Tree Post Pruning \n",
    "\n",
    "As Training and Test accuracy is almost same, we can say the model is not overfit.\n",
    "\n",
    "But if so then, One of the ways to reduce overfitting in decision trees is to grow the tree fully and then use post-pruning based on a validation set. In post-pruning, we greedily prune the nodes of the tree (and sub-tree below them) by iteratively picking a node to prune so that resultant tree gives maximum increase in accuracy on the validation set. In other words, among all the nodes in the tree, we prune the node such that pruning it (and sub-tree below it) results in maximum increase in accuracy over the validation set. This is repeated until any further pruning leads to decrease in accuracy over the validation set. "
   ]
  },
  {
   "cell_type": "markdown",
   "metadata": {},
   "source": [
    "Random Forests:\n",
    "\n",
    "\n",
    "Random Forests are extensions of decision trees, where we grow multiple decision trees in parallel on bootstrapped samples constructed from the original training data. A number of libraries are available for learning Random Forests over a given training data. In this particular question I used the scikit-learn library of Python to grow a Random Forest.\n",
    "\n",
    "Experimented with the following parameter values (in the given range): \n",
    "\n",
    "(a) n estimators (50 to 450 in range of 100). \n",
    "\n",
    "(b) max f eatures (0.1 to 1.0 in range of 0.2) \n",
    "\n",
    "(c) min samples split (2 to 10 in range of\n",
    "\n",
    "\n",
    "2). Used the out-of-bag accuracy to tune to the optimal values for these parameters. We should perform\n",
    "a grid search over the space of parameters. Report training, out-of-bag, validation and test set accuracies for the optimal set of parameters obtained. How do your numbers, i.e., train, validation and test set accuracies compare\n",
    "with those you obtained above?\n",
    "\n",
    "One must note that if you encode categorical attributes to integers, scikit will assume they are ordinal.\n",
    "For example, if (Male, Female, Others) is mapped to (0, 1, 2) scikit will treat them as integers with 1\n",
    "<2 <3. So we may need to encode in a way this ordering can be avoided. Scikit uses two split for\n",
    "handling categorical"
   ]
  },
  {
   "cell_type": "code",
   "execution_count": 33,
   "metadata": {},
   "outputs": [],
   "source": [
    "from sklearn.ensemble import RandomForestClassifier"
   ]
  },
  {
   "cell_type": "code",
   "execution_count": 34,
   "metadata": {},
   "outputs": [
    {
     "data": {
      "text/html": [
       "<style>#sk-container-id-1 {color: black;background-color: white;}#sk-container-id-1 pre{padding: 0;}#sk-container-id-1 div.sk-toggleable {background-color: white;}#sk-container-id-1 label.sk-toggleable__label {cursor: pointer;display: block;width: 100%;margin-bottom: 0;padding: 0.3em;box-sizing: border-box;text-align: center;}#sk-container-id-1 label.sk-toggleable__label-arrow:before {content: \"▸\";float: left;margin-right: 0.25em;color: #696969;}#sk-container-id-1 label.sk-toggleable__label-arrow:hover:before {color: black;}#sk-container-id-1 div.sk-estimator:hover label.sk-toggleable__label-arrow:before {color: black;}#sk-container-id-1 div.sk-toggleable__content {max-height: 0;max-width: 0;overflow: hidden;text-align: left;background-color: #f0f8ff;}#sk-container-id-1 div.sk-toggleable__content pre {margin: 0.2em;color: black;border-radius: 0.25em;background-color: #f0f8ff;}#sk-container-id-1 input.sk-toggleable__control:checked~div.sk-toggleable__content {max-height: 200px;max-width: 100%;overflow: auto;}#sk-container-id-1 input.sk-toggleable__control:checked~label.sk-toggleable__label-arrow:before {content: \"▾\";}#sk-container-id-1 div.sk-estimator input.sk-toggleable__control:checked~label.sk-toggleable__label {background-color: #d4ebff;}#sk-container-id-1 div.sk-label input.sk-toggleable__control:checked~label.sk-toggleable__label {background-color: #d4ebff;}#sk-container-id-1 input.sk-hidden--visually {border: 0;clip: rect(1px 1px 1px 1px);clip: rect(1px, 1px, 1px, 1px);height: 1px;margin: -1px;overflow: hidden;padding: 0;position: absolute;width: 1px;}#sk-container-id-1 div.sk-estimator {font-family: monospace;background-color: #f0f8ff;border: 1px dotted black;border-radius: 0.25em;box-sizing: border-box;margin-bottom: 0.5em;}#sk-container-id-1 div.sk-estimator:hover {background-color: #d4ebff;}#sk-container-id-1 div.sk-parallel-item::after {content: \"\";width: 100%;border-bottom: 1px solid gray;flex-grow: 1;}#sk-container-id-1 div.sk-label:hover label.sk-toggleable__label {background-color: #d4ebff;}#sk-container-id-1 div.sk-serial::before {content: \"\";position: absolute;border-left: 1px solid gray;box-sizing: border-box;top: 0;bottom: 0;left: 50%;z-index: 0;}#sk-container-id-1 div.sk-serial {display: flex;flex-direction: column;align-items: center;background-color: white;padding-right: 0.2em;padding-left: 0.2em;position: relative;}#sk-container-id-1 div.sk-item {position: relative;z-index: 1;}#sk-container-id-1 div.sk-parallel {display: flex;align-items: stretch;justify-content: center;background-color: white;position: relative;}#sk-container-id-1 div.sk-item::before, #sk-container-id-1 div.sk-parallel-item::before {content: \"\";position: absolute;border-left: 1px solid gray;box-sizing: border-box;top: 0;bottom: 0;left: 50%;z-index: -1;}#sk-container-id-1 div.sk-parallel-item {display: flex;flex-direction: column;z-index: 1;position: relative;background-color: white;}#sk-container-id-1 div.sk-parallel-item:first-child::after {align-self: flex-end;width: 50%;}#sk-container-id-1 div.sk-parallel-item:last-child::after {align-self: flex-start;width: 50%;}#sk-container-id-1 div.sk-parallel-item:only-child::after {width: 0;}#sk-container-id-1 div.sk-dashed-wrapped {border: 1px dashed gray;margin: 0 0.4em 0.5em 0.4em;box-sizing: border-box;padding-bottom: 0.4em;background-color: white;}#sk-container-id-1 div.sk-label label {font-family: monospace;font-weight: bold;display: inline-block;line-height: 1.2em;}#sk-container-id-1 div.sk-label-container {text-align: center;}#sk-container-id-1 div.sk-container {/* jupyter's `normalize.less` sets `[hidden] { display: none; }` but bootstrap.min.css set `[hidden] { display: none !important; }` so we also need the `!important` here to be able to override the default hidden behavior on the sphinx rendered scikit-learn.org. See: https://github.com/scikit-learn/scikit-learn/issues/21755 */display: inline-block !important;position: relative;}#sk-container-id-1 div.sk-text-repr-fallback {display: none;}</style><div id=\"sk-container-id-1\" class=\"sk-top-container\"><div class=\"sk-text-repr-fallback\"><pre>RandomForestClassifier(criterion=&#x27;entropy&#x27;, min_samples_split=50,\n",
       "                       n_estimators=25)</pre><b>In a Jupyter environment, please rerun this cell to show the HTML representation or trust the notebook. <br />On GitHub, the HTML representation is unable to render, please try loading this page with nbviewer.org.</b></div><div class=\"sk-container\" hidden><div class=\"sk-item\"><div class=\"sk-estimator sk-toggleable\"><input class=\"sk-toggleable__control sk-hidden--visually\" id=\"sk-estimator-id-1\" type=\"checkbox\" checked><label for=\"sk-estimator-id-1\" class=\"sk-toggleable__label sk-toggleable__label-arrow\">RandomForestClassifier</label><div class=\"sk-toggleable__content\"><pre>RandomForestClassifier(criterion=&#x27;entropy&#x27;, min_samples_split=50,\n",
       "                       n_estimators=25)</pre></div></div></div></div></div>"
      ],
      "text/plain": [
       "RandomForestClassifier(criterion='entropy', min_samples_split=50,\n",
       "                       n_estimators=25)"
      ]
     },
     "execution_count": 34,
     "metadata": {},
     "output_type": "execute_result"
    }
   ],
   "source": [
    "clf25 = RandomForestClassifier(n_estimators=25, criterion=\"entropy\", min_samples_split=50)\n",
    "clf25.fit(XTrain, yTrain)"
   ]
  },
  {
   "cell_type": "code",
   "execution_count": 35,
   "metadata": {},
   "outputs": [],
   "source": [
    "XTest = XTest[newFeaturesName]"
   ]
  },
  {
   "cell_type": "code",
   "execution_count": 36,
   "metadata": {},
   "outputs": [
    {
     "data": {
      "text/plain": [
       "array([0, 0, 0, ..., 0, 0, 0])"
      ]
     },
     "execution_count": 36,
     "metadata": {},
     "output_type": "execute_result"
    }
   ],
   "source": [
    "clf25YPred = clf25.predict(XTest)\n",
    "clf25YPred"
   ]
  },
  {
   "cell_type": "code",
   "execution_count": 37,
   "metadata": {},
   "outputs": [],
   "source": [
    "def calcAccuracy(clfpred, realy, len_):\n",
    "    truePositive = 0\n",
    "    for i in range(len_):\n",
    "        if clfpred[i] == realy.iloc[i]:\n",
    "            truePositive += 1\n",
    "    accuracy = (truePositive/len_)*100\n",
    "    return accuracy"
   ]
  },
  {
   "cell_type": "code",
   "execution_count": 38,
   "metadata": {},
   "outputs": [
    {
     "data": {
      "text/plain": [
       "89.86949789869499"
      ]
     },
     "execution_count": 38,
     "metadata": {},
     "output_type": "execute_result"
    }
   ],
   "source": [
    "calcAccuracy(clf25YPred, yTest, TestLength)"
   ]
  },
  {
   "cell_type": "markdown",
   "metadata": {},
   "source": [
    "Using Gini as a criterion"
   ]
  },
  {
   "cell_type": "code",
   "execution_count": 39,
   "metadata": {},
   "outputs": [
    {
     "data": {
      "text/html": [
       "<style>#sk-container-id-2 {color: black;background-color: white;}#sk-container-id-2 pre{padding: 0;}#sk-container-id-2 div.sk-toggleable {background-color: white;}#sk-container-id-2 label.sk-toggleable__label {cursor: pointer;display: block;width: 100%;margin-bottom: 0;padding: 0.3em;box-sizing: border-box;text-align: center;}#sk-container-id-2 label.sk-toggleable__label-arrow:before {content: \"▸\";float: left;margin-right: 0.25em;color: #696969;}#sk-container-id-2 label.sk-toggleable__label-arrow:hover:before {color: black;}#sk-container-id-2 div.sk-estimator:hover label.sk-toggleable__label-arrow:before {color: black;}#sk-container-id-2 div.sk-toggleable__content {max-height: 0;max-width: 0;overflow: hidden;text-align: left;background-color: #f0f8ff;}#sk-container-id-2 div.sk-toggleable__content pre {margin: 0.2em;color: black;border-radius: 0.25em;background-color: #f0f8ff;}#sk-container-id-2 input.sk-toggleable__control:checked~div.sk-toggleable__content {max-height: 200px;max-width: 100%;overflow: auto;}#sk-container-id-2 input.sk-toggleable__control:checked~label.sk-toggleable__label-arrow:before {content: \"▾\";}#sk-container-id-2 div.sk-estimator input.sk-toggleable__control:checked~label.sk-toggleable__label {background-color: #d4ebff;}#sk-container-id-2 div.sk-label input.sk-toggleable__control:checked~label.sk-toggleable__label {background-color: #d4ebff;}#sk-container-id-2 input.sk-hidden--visually {border: 0;clip: rect(1px 1px 1px 1px);clip: rect(1px, 1px, 1px, 1px);height: 1px;margin: -1px;overflow: hidden;padding: 0;position: absolute;width: 1px;}#sk-container-id-2 div.sk-estimator {font-family: monospace;background-color: #f0f8ff;border: 1px dotted black;border-radius: 0.25em;box-sizing: border-box;margin-bottom: 0.5em;}#sk-container-id-2 div.sk-estimator:hover {background-color: #d4ebff;}#sk-container-id-2 div.sk-parallel-item::after {content: \"\";width: 100%;border-bottom: 1px solid gray;flex-grow: 1;}#sk-container-id-2 div.sk-label:hover label.sk-toggleable__label {background-color: #d4ebff;}#sk-container-id-2 div.sk-serial::before {content: \"\";position: absolute;border-left: 1px solid gray;box-sizing: border-box;top: 0;bottom: 0;left: 50%;z-index: 0;}#sk-container-id-2 div.sk-serial {display: flex;flex-direction: column;align-items: center;background-color: white;padding-right: 0.2em;padding-left: 0.2em;position: relative;}#sk-container-id-2 div.sk-item {position: relative;z-index: 1;}#sk-container-id-2 div.sk-parallel {display: flex;align-items: stretch;justify-content: center;background-color: white;position: relative;}#sk-container-id-2 div.sk-item::before, #sk-container-id-2 div.sk-parallel-item::before {content: \"\";position: absolute;border-left: 1px solid gray;box-sizing: border-box;top: 0;bottom: 0;left: 50%;z-index: -1;}#sk-container-id-2 div.sk-parallel-item {display: flex;flex-direction: column;z-index: 1;position: relative;background-color: white;}#sk-container-id-2 div.sk-parallel-item:first-child::after {align-self: flex-end;width: 50%;}#sk-container-id-2 div.sk-parallel-item:last-child::after {align-self: flex-start;width: 50%;}#sk-container-id-2 div.sk-parallel-item:only-child::after {width: 0;}#sk-container-id-2 div.sk-dashed-wrapped {border: 1px dashed gray;margin: 0 0.4em 0.5em 0.4em;box-sizing: border-box;padding-bottom: 0.4em;background-color: white;}#sk-container-id-2 div.sk-label label {font-family: monospace;font-weight: bold;display: inline-block;line-height: 1.2em;}#sk-container-id-2 div.sk-label-container {text-align: center;}#sk-container-id-2 div.sk-container {/* jupyter's `normalize.less` sets `[hidden] { display: none; }` but bootstrap.min.css set `[hidden] { display: none !important; }` so we also need the `!important` here to be able to override the default hidden behavior on the sphinx rendered scikit-learn.org. See: https://github.com/scikit-learn/scikit-learn/issues/21755 */display: inline-block !important;position: relative;}#sk-container-id-2 div.sk-text-repr-fallback {display: none;}</style><div id=\"sk-container-id-2\" class=\"sk-top-container\"><div class=\"sk-text-repr-fallback\"><pre>RandomForestClassifier(min_samples_split=50, n_estimators=25)</pre><b>In a Jupyter environment, please rerun this cell to show the HTML representation or trust the notebook. <br />On GitHub, the HTML representation is unable to render, please try loading this page with nbviewer.org.</b></div><div class=\"sk-container\" hidden><div class=\"sk-item\"><div class=\"sk-estimator sk-toggleable\"><input class=\"sk-toggleable__control sk-hidden--visually\" id=\"sk-estimator-id-2\" type=\"checkbox\" checked><label for=\"sk-estimator-id-2\" class=\"sk-toggleable__label sk-toggleable__label-arrow\">RandomForestClassifier</label><div class=\"sk-toggleable__content\"><pre>RandomForestClassifier(min_samples_split=50, n_estimators=25)</pre></div></div></div></div></div>"
      ],
      "text/plain": [
       "RandomForestClassifier(min_samples_split=50, n_estimators=25)"
      ]
     },
     "execution_count": 39,
     "metadata": {},
     "output_type": "execute_result"
    }
   ],
   "source": [
    "clf25gini = RandomForestClassifier(n_estimators=25, criterion=\"gini\", min_samples_split=50)\n",
    "clf25gini.fit(XTrain, yTrain)"
   ]
  },
  {
   "cell_type": "code",
   "execution_count": 40,
   "metadata": {},
   "outputs": [
    {
     "data": {
      "text/plain": [
       "array([0, 0, 0, ..., 0, 0, 0])"
      ]
     },
     "execution_count": 40,
     "metadata": {},
     "output_type": "execute_result"
    }
   ],
   "source": [
    "clf25giniYPred = clf25gini.predict(XTest)\n",
    "clf25giniYPred"
   ]
  },
  {
   "cell_type": "code",
   "execution_count": 41,
   "metadata": {},
   "outputs": [
    {
     "data": {
      "text/plain": [
       "89.93585489935855"
      ]
     },
     "execution_count": 41,
     "metadata": {},
     "output_type": "execute_result"
    }
   ],
   "source": [
    "calcAccuracy(clf25giniYPred, yTest, TestLength)"
   ]
  },
  {
   "cell_type": "markdown",
   "metadata": {},
   "source": [
    "Comparitively giving us the similar result"
   ]
  },
  {
   "cell_type": "markdown",
   "metadata": {},
   "source": [
    "So by using 'Random Forest' the accuracy improved from 88.25% to 89.8%"
   ]
  }
 ],
 "metadata": {
  "interpreter": {
   "hash": "916dbcbb3f70747c44a77c7bcd40155683ae19c65e1c03b4aa3499c5328201f1"
  },
  "kernelspec": {
   "display_name": "Python 3.8.10 64-bit",
   "language": "python",
   "name": "python3"
  },
  "language_info": {
   "codemirror_mode": {
    "name": "ipython",
    "version": 3
   },
   "file_extension": ".py",
   "mimetype": "text/x-python",
   "name": "python",
   "nbconvert_exporter": "python",
   "pygments_lexer": "ipython3",
   "version": "3.8.10"
  },
  "orig_nbformat": 4
 },
 "nbformat": 4,
 "nbformat_minor": 2
}
